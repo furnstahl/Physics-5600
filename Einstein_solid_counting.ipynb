{
 "cells": [
  {
   "cell_type": "markdown",
   "id": "194250d0",
   "metadata": {},
   "source": [
    "# Calculating and plotting Einstein solids\n",
    "\n",
    "We'll follow the notation in the Schroeder text in sections 2.2 and 2.3.\n",
    "\n",
    "The multiplicity for a single Einstein solid with $N$ oscillators and total energy $q$ (in units of $hf$) is:\n",
    "$$\n",
    "        \\Omega(N,q) = {q+N-1\\choose q} = \\frac{(q+N-1)!}{q!(N-1)!}\n",
    "$$\n",
    "\n"
   ]
  },
  {
   "cell_type": "code",
   "execution_count": 1,
   "id": "4030f05a",
   "metadata": {},
   "outputs": [],
   "source": [
    "import numpy as np\n",
    "from scipy.special import comb\n",
    "import matplotlib.pyplot as plt"
   ]
  },
  {
   "cell_type": "code",
   "execution_count": 2,
   "id": "9909e114",
   "metadata": {},
   "outputs": [],
   "source": [
    "def ein_mult(N, q):\n",
    "    \"\"\"\n",
    "    Calculate the Einstein solid multiplicity and return it as\n",
    "     an integer.\n",
    "    \"\"\"\n",
    "    return int(comb(q + N -1, q))  "
   ]
  },
  {
   "cell_type": "markdown",
   "id": "8e6a43d8",
   "metadata": {},
   "source": [
    "## Schroeder section 2.2 Einstein model"
   ]
  },
  {
   "cell_type": "markdown",
   "id": "042cd686",
   "metadata": {},
   "source": [
    "### Problem 2.5\n",
    "For an Einstein solid with each of the following values of $N$ and $q$, list all of the possible microstates, count them, and verify the multiplicity formula.\n",
    "\n",
    "(a) $N=3$, $q=4$ <br>\n",
    "(b) $N=3$, $q=5$ <br>\n",
    "(c) $N=3$, $q=6$ <br>\n",
    "(d) $N=4$, $q=2$ <br>\n",
    "(e) $N=4$, $q=3$ <br>\n",
    "(f) $N=1$, $q=\\mbox{anything}$ <br>\n",
    "(g) $N=\\mbox{anything}$, $q=1$"
   ]
  },
  {
   "cell_type": "code",
   "execution_count": 3,
   "id": "588eca42",
   "metadata": {},
   "outputs": [
    {
     "data": {
      "text/plain": [
       "10"
      ]
     },
     "execution_count": 3,
     "metadata": {},
     "output_type": "execute_result"
    }
   ],
   "source": [
    "ein_mult(10, 1)  # 2.5(a)"
   ]
  },
  {
   "cell_type": "code",
   "execution_count": 4,
   "id": "62224238",
   "metadata": {},
   "outputs": [
    {
     "data": {
      "text/plain": [
       "20"
      ]
     },
     "execution_count": 4,
     "metadata": {},
     "output_type": "execute_result"
    }
   ],
   "source": [
    "ein_mult(4, 3)  # 2.5(e)"
   ]
  },
  {
   "cell_type": "code",
   "execution_count": 5,
   "id": "237a70a8",
   "metadata": {},
   "outputs": [
    {
     "data": {
      "text/plain": [
       "1"
      ]
     },
     "execution_count": 5,
     "metadata": {},
     "output_type": "execute_result"
    }
   ],
   "source": [
    "ein_mult(1, 20)  # 2.5(f) --> try other q values"
   ]
  },
  {
   "cell_type": "markdown",
   "id": "3e3a7314",
   "metadata": {},
   "source": [
    "### Problem 2.6\n",
    "\n",
    "Calculate the multiplicity of an Einstein solid with 30 oscillators and 30 units of energy."
   ]
  },
  {
   "cell_type": "code",
   "execution_count": 6,
   "id": "0e7f3887",
   "metadata": {},
   "outputs": [
    {
     "name": "stdout",
     "output_type": "stream",
     "text": [
      "answer = 5.91e+16\n"
     ]
    }
   ],
   "source": [
    "print(f'answer = {ein_mult(30, 30):.2e}') # print 3 sig figs"
   ]
  },
  {
   "cell_type": "markdown",
   "id": "27d1c44e",
   "metadata": {},
   "source": [
    "## Section 2.3 Interacting systems"
   ]
  },
  {
   "cell_type": "markdown",
   "id": "28a50b99",
   "metadata": {},
   "source": [
    "Now we have two Einstein solids, $A$ and $B$, which have $N_A$ and $N_B$ oscillators, respectively. The individual multiplicities of each solid are:\n",
    "$$\n",
    "        \\Omega_A(N_A,q_A) = {q_A+N_A-1\\choose q_A} = \\frac{(q_A+N_A-1)!}{q_A!(N_A-1)!}\n",
    "$$\n",
    "\n",
    "$$\n",
    "        \\Omega_B(N_B,q_B) = {q_B+N_B-1\\choose B_A} = \\frac{(q_B+N_B-1)!}{q_B!(N_B-1)!}\n",
    "$$\n",
    "\n",
    "while the total multiplicity with $q_{\\rm total} = q_A + q_B$ is\n",
    "  $ \\Omega_{\\rm total} = \\Omega_A \\times \\Omega_B$.\n"
   ]
  },
  {
   "cell_type": "code",
   "execution_count": 7,
   "id": "642ae466",
   "metadata": {},
   "outputs": [],
   "source": [
    "def convert_int(my_int, large=10**7):\n",
    "    \"\"\"\n",
    "    If my_int is larger than large, return an exponential form.\n",
    "      The right justification for ints should be log10(large) + 1.\n",
    "    \"\"\"\n",
    "    if my_int > large:\n",
    "        return \"{: .1e}\".format(my_int)\n",
    "    else:\n",
    "        return \"{:> 8}\".format(my_int)"
   ]
  },
  {
   "cell_type": "code",
   "execution_count": 8,
   "id": "55283398",
   "metadata": {},
   "outputs": [],
   "source": [
    "def macrostate_table(N_A, N_B, q_tot, table=True):\n",
    "    \"\"\"\n",
    "    Step through q_A and q_B = q_tot - q_A and use ein_mult \n",
    "      to find Omega_A and Omega_B.\n",
    "    Total multiplicity from: Omega_tot = Omega_A * Omega_B\n",
    "   \n",
    "    Construct a table like in Schroeder with macrostates \n",
    "      and multiplicities for a system of two Einstein solids\n",
    "      and return an array of Omega_tot values.\n",
    "      \n",
    "    If table=False, don't print the table but return the array\n",
    "     of Omega_tot values.\n",
    "    \"\"\"\n",
    "    if table:\n",
    "        print('  q_A     Omega_A     q_B      Omega_B   Omega_tot')\n",
    "    tot_microstates = 0\n",
    "    Omega_tot_array = np.zeros(q_tot+1)  # collect Omega_tot values\n",
    "    for q_A in range(q_tot+1):\n",
    "        Omega_A = ein_mult(N_A, q_A) \n",
    "        \n",
    "        q_B = q_tot - q_A\n",
    "        Omega_B = ein_mult(N_B, q_B) \n",
    "\n",
    "        Omega_tot = Omega_A * Omega_B\n",
    "        Omega_tot_array[q_A] = Omega_tot\n",
    "        tot_microstates += Omega_tot\n",
    "        \n",
    "        if table:\n",
    "            print (f' {q_A:> 4}   {convert_int(Omega_A)}     {q_B:> 4}',\n",
    "                   f'   {convert_int(Omega_B)}  ',\n",
    "                   f'{convert_int(Omega_tot)}')\n",
    "    print(f'Total microstates = {convert_int(tot_microstates)}')\n",
    "    return Omega_tot_array"
   ]
  },
  {
   "cell_type": "markdown",
   "id": "847eef25",
   "metadata": {},
   "source": [
    "### Figure 2.4"
   ]
  },
  {
   "cell_type": "code",
   "execution_count": 9,
   "id": "9dd5ddf8",
   "metadata": {},
   "outputs": [
    {
     "name": "stdout",
     "output_type": "stream",
     "text": [
      "  q_A     Omega_A     q_B      Omega_B   Omega_tot\n",
      "    0          1        6          28         28\n",
      "    1          3        5          21         63\n",
      "    2          6        4          15         90\n",
      "    3         10        3          10        100\n",
      "    4         15        2           6         90\n",
      "    5         21        1           3         63\n",
      "    6         28        0           1         28\n",
      "Total microstates =      462\n"
     ]
    }
   ],
   "source": [
    "Omega_tot_array = macrostate_table(3, 3, 6)"
   ]
  },
  {
   "cell_type": "code",
   "execution_count": 10,
   "id": "5763be9c",
   "metadata": {},
   "outputs": [
    {
     "data": {
      "text/plain": [
       "array([ 28.,  63.,  90., 100.,  90.,  63.,  28.])"
      ]
     },
     "execution_count": 10,
     "metadata": {},
     "output_type": "execute_result"
    }
   ],
   "source": [
    "Omega_tot_array"
   ]
  },
  {
   "cell_type": "code",
   "execution_count": 17,
   "id": "08d0ddb7",
   "metadata": {},
   "outputs": [
    {
     "data": {
      "image/png": "[encoded data removed]",
      "text/plain": [
       "<Figure size 640x480 with 1 Axes>"
      ]
     },
     "metadata": {},
     "output_type": "display_data"
    }
   ],
   "source": [
    "fig, ax0 = plt.subplots(1, 1)\n",
    "q_array = np.arange(len(Omega_tot_array))\n",
    "ax0.bar(q_array, Omega_tot_array, edgecolor='blue', color='lightblue')\n",
    "ax0.set_xlabel(r'$q_A$')\n",
    "ax0.set_ylabel(r'total multiplicity $\\Omega_{\\rm total}$ given $q_A$')\n",
    "#ax0.set_xlim(q_array[0], q_array[-1])\n",
    "fig.tight_layout()"
   ]
  },
  {
   "cell_type": "markdown",
   "id": "efdc916a",
   "metadata": {},
   "source": [
    "### Figure 2.5"
   ]
  },
  {
   "cell_type": "code",
   "execution_count": 12,
   "id": "962537a6",
   "metadata": {},
   "outputs": [
    {
     "name": "stdout",
     "output_type": "stream",
     "text": [
      "  q_A     Omega_A     q_B      Omega_B   Omega_tot\n",
      "    0          1      100     2.8e+81    2.8e+81\n",
      "    1        300       99     9.3e+80    2.8e+83\n",
      "    2      45150       98     3.1e+80    1.4e+85\n",
      "    3    4545100       97     1.0e+80    4.6e+86\n",
      "    4    3.4e+08       96     3.3e+79    1.1e+88\n",
      "    5    2.1e+10       95     1.1e+79    2.3e+89\n",
      "    6    1.1e+12       94     3.5e+78    3.7e+90\n",
      "    7    4.7e+13       93     1.1e+78    5.2e+91\n",
      "    8    1.8e+15       92     3.6e+77    6.4e+92\n",
      "    9    6.1e+16       91     1.1e+77    6.9e+93\n",
      "   10    1.9e+18       90     3.6e+76    6.7e+94\n",
      "   11    5.3e+19       89     1.1e+76    5.9e+95\n",
      "   12    1.4e+21       88     3.4e+75    4.7e+96\n",
      "   13    3.3e+22       87     1.0e+75    3.5e+97\n",
      "   14    7.4e+23       86     3.2e+74    2.4e+98\n",
      "   15    1.5e+25       85     9.6e+73    1.5e+99\n",
      "   16    3.0e+26       84     2.9e+73    8.8e+99\n",
      "   17    5.7e+27       83     8.5e+72    4.8e+100\n",
      "   18    1.0e+29       82     2.5e+72    2.5e+101\n",
      "   19    1.7e+30       81     7.3e+71    1.2e+102\n",
      "   20    2.7e+31       80     2.1e+71    5.7e+102\n",
      "   21    4.1e+32       79     6.1e+70    2.5e+103\n",
      "   22    5.9e+33       78     1.7e+70    1.0e+104\n",
      "   23    8.3e+34       77     4.9e+69    4.0e+104\n",
      "   24    1.1e+36       76     1.4e+69    1.5e+105\n",
      "   25    1.4e+37       75     3.8e+68    5.4e+105\n",
      "   26    1.8e+38       74     1.0e+68    1.9e+106\n",
      "   27    2.2e+39       73     2.8e+67    6.1e+106\n",
      "   28    2.5e+40       72     7.5e+66    1.9e+107\n",
      "   29    2.9e+41       71     2.0e+66    5.7e+107\n",
      "   30    3.2e+42       70     5.2e+65    1.7e+108\n",
      "   31    3.4e+43       69     1.4e+65    4.6e+108\n",
      "   32    3.5e+44       68     3.5e+64    1.2e+109\n",
      "   33    3.5e+45       67     8.9e+63    3.1e+109\n",
      "   34    3.4e+46       66     2.2e+63    7.7e+109\n",
      "   35    3.3e+47       65     5.6e+62    1.8e+110\n",
      "   36    3.0e+48       64     1.4e+62    4.2e+110\n",
      "   37    2.8e+49       63     3.4e+61    9.3e+110\n",
      "   38    2.5e+50       62     8.1e+60    2.0e+111\n",
      "   39    2.1e+51       61     1.9e+60    4.1e+111\n",
      "   40    1.8e+52       60     4.5e+59    8.1e+111\n",
      "   41    1.5e+53       59     1.0e+59    1.6e+112\n",
      "   42    1.2e+54       58     2.4e+58    2.9e+112\n",
      "   43    9.7e+54       57     5.4e+57    5.2e+112\n",
      "   44    7.5e+55       56     1.2e+57    9.0e+112\n",
      "   45    5.8e+56       55     2.6e+56    1.5e+113\n",
      "   46    4.3e+57       54     5.7e+55    2.5e+113\n",
      "   47    3.2e+58       53     1.2e+55    3.9e+113\n",
      "   48    2.3e+59       52     2.6e+54    5.9e+113\n",
      "   49    1.6e+60       51     5.3e+53    8.6e+113\n",
      "   50    1.1e+61       50     1.1e+53    1.2e+114\n",
      "   51    7.8e+61       49     2.2e+52    1.7e+114\n",
      "   52    5.3e+62       48     4.3e+51    2.3e+114\n",
      "   53    3.5e+63       47     8.3e+50    2.9e+114\n",
      "   54    2.3e+64       46     1.6e+50    3.6e+114\n",
      "   55    1.5e+65       45     3.0e+49    4.4e+114\n",
      "   56    9.3e+65       44     5.5e+48    5.1e+114\n",
      "   57    5.8e+66       43     1.0e+48    5.8e+114\n",
      "   58    3.6e+67       42     1.8e+47    6.4e+114\n",
      "   59    2.2e+68       41     3.1e+46    6.7e+114\n",
      "   60    1.3e+69       40     5.3e+45    6.9e+114\n",
      "   61    7.7e+69       39     8.8e+44    6.8e+114\n",
      "   62    4.5e+70       38     1.4e+44    6.5e+114\n",
      "   63    2.6e+71       37     2.3e+43    6.0e+114\n",
      "   64    1.5e+72       36     3.6e+42    5.3e+114\n",
      "   65    8.2e+72       35     5.6e+41    4.5e+114\n",
      "   66    4.5e+73       34     8.3e+40    3.8e+114\n",
      "   67    2.5e+74       33     1.2e+40    3.0e+114\n",
      "   68    1.3e+75       32     1.7e+39    2.3e+114\n",
      "   69    7.1e+75       31     2.4e+38    1.7e+114\n",
      "   70    3.7e+76       30     3.2e+37    1.2e+114\n",
      "   71    2.0e+77       29     4.2e+36    8.2e+113\n",
      "   72    1.0e+78       28     5.4e+35    5.4e+113\n",
      "   73    5.1e+78       27     6.6e+34    3.4e+113\n",
      "   74    2.6e+79       26     7.9e+33    2.0e+113\n",
      "   75    1.3e+80       25     9.2e+32    1.2e+113\n",
      "   76    6.4e+80       24     1.0e+32    6.5e+112\n",
      "   77    3.1e+81       23     1.1e+31    3.4e+112\n",
      "   78    1.5e+82       22     1.1e+30    1.7e+112\n",
      "   79    7.2e+82       21     1.1e+29    8.1e+111\n",
      "   80    3.4e+83       20     1.1e+28    3.7e+111\n",
      "   81    1.6e+84       19     9.9e+26    1.6e+111\n",
      "   82    7.4e+84       18     8.6e+25    6.4e+110\n",
      "   83    3.4e+85       17     7.1e+24    2.4e+110\n",
      "   84    1.6e+86       16     5.6e+23    8.8e+109\n",
      "   85    7.0e+86       15     4.2e+22    2.9e+109\n",
      "   86    3.1e+87       14     2.9e+21    9.2e+108\n",
      "   87    1.4e+88       13     1.9e+20    2.7e+108\n",
      "   88    6.1e+88       12     1.2e+19    7.3e+107\n",
      "   89    2.7e+89       11     6.7e+17    1.8e+107\n",
      "   90    1.2e+90       10     3.5e+16    4.1e+106\n",
      "   91    5.0e+90        9     1.7e+15    8.4e+105\n",
      "   92    2.1e+91        8     7.3e+13    1.5e+105\n",
      "   93    8.9e+91        7     2.8e+12    2.5e+104\n",
      "   94    3.7e+92        6     9.6e+10    3.6e+103\n",
      "   95    1.5e+93        5     2.8e+09    4.3e+102\n",
      "   96    6.3e+93        4     6.9e+07    4.4e+101\n",
      "   97    2.6e+94        3     1353400    3.5e+100\n",
      "   98    1.0e+95        2       20100    2.1e+99\n",
      "   99    4.2e+95        1         200    8.4e+97\n",
      "  100    1.7e+96        0           1    1.7e+96\n",
      "Total microstates =  9.3e+115\n"
     ]
    }
   ],
   "source": [
    "Omega_tot_array = macrostate_table(300, 200, 100)"
   ]
  },
  {
   "cell_type": "code",
   "execution_count": 13,
   "id": "6b7954f7",
   "metadata": {},
   "outputs": [
    {
     "data": {
      "image/png": "[encoded data removed]",
      "text/plain": [
       "<Figure size 640x480 with 1 Axes>"
      ]
     },
     "metadata": {},
     "output_type": "display_data"
    }
   ],
   "source": [
    "fig, ax0 = plt.subplots(1, 1)\n",
    "q_array = np.arange(len(Omega_tot_array))\n",
    "ax0.plot(q_array, Omega_tot_array, color='blue')\n",
    "ax0.fill_between(q_array, Omega_tot_array, color='lightblue')\n",
    "ax0.set_xlabel(r'$q_A$')\n",
    "ax0.set_ylabel(r'total multiplicity $\\Omega_{\\rm total}$')\n",
    "ax0.set_xlim(q_array[0], q_array[-1])\n",
    "fig.tight_layout()"
   ]
  },
  {
   "cell_type": "markdown",
   "id": "f6b25ce4",
   "metadata": {},
   "source": [
    "### Test the upper limit of system size\n",
    "\n",
    "The largest float in Python is about $2.3\\times 10^{308}$."
   ]
  },
  {
   "cell_type": "code",
   "execution_count": 14,
   "id": "3b744531",
   "metadata": {
    "scrolled": false
   },
   "outputs": [
    {
     "name": "stdout",
     "output_type": "stream",
     "text": [
      "  q_A     Omega_A     q_B      Omega_B   Omega_tot\n",
      "    0          1      300     1.3e+228    1.3e+228\n",
      "    1        500      299     4.8e+227    2.4e+230\n",
      "    2     125250      298     1.8e+227    2.3e+232\n",
      "    3    2.1e+07      297     6.8e+226    1.4e+234\n",
      "    4    2.6e+09      296     2.5e+226    6.7e+235\n",
      "    5    2.7e+11      295     9.4e+225    2.5e+237\n",
      "    6    2.2e+13      294     3.5e+225    7.8e+238\n",
      "    7    1.6e+15      293     1.3e+225    2.1e+240\n",
      "    8    1.0e+17      292     4.8e+224    4.9e+241\n",
      "    9    5.8e+18      291     1.8e+224    1.0e+243\n",
      "   10    2.9e+20      290     6.5e+223    1.9e+244\n",
      "   11    1.4e+22      289     2.4e+223    3.3e+245\n",
      "   12    5.8e+23      288     8.8e+222    5.1e+246\n",
      "   13    2.3e+25      287     3.2e+222    7.4e+247\n",
      "   14    8.4e+26      286     1.2e+222    9.9e+248\n",
      "   15    2.9e+28      285     4.3e+221    1.2e+250\n",
      "   16    9.2e+29      284     1.6e+221    1.4e+251\n",
      "   17    2.8e+31      283     5.7e+220    1.6e+252\n",
      "   18    8.1e+32      282     2.0e+220    1.6e+253\n",
      "   19    2.2e+34      281     7.4e+219    1.6e+254\n",
      "   20    5.7e+35      280     2.7e+219    1.5e+255\n",
      "   21    1.4e+37      279     9.6e+218    1.4e+256\n",
      "   22    3.3e+38      278     3.4e+218    1.1e+257\n",
      "   23    7.6e+39      277     1.2e+218    9.3e+257\n",
      "   24    1.7e+41      276     4.4e+217    7.2e+258\n",
      "   25    3.5e+42      275     1.6e+217    5.4e+259\n",
      "   26    7.0e+43      274     5.5e+216    3.9e+260\n",
      "   27    1.4e+45      273     2.0e+216    2.7e+261\n",
      "   28    2.6e+46      272     6.9e+215    1.8e+262\n",
      "   29    4.7e+47      271     2.5e+215    1.1e+263\n",
      "   30    8.2e+48      270     8.6e+214    7.1e+263\n",
      "   31    1.4e+50      269     3.0e+214    4.3e+264\n",
      "   32    2.3e+51      268     1.1e+214    2.5e+265\n",
      "   33    3.8e+52      267     3.7e+213    1.4e+266\n",
      "   34    5.9e+53      266     1.3e+213    7.6e+266\n",
      "   35    9.0e+54      265     4.5e+212    4.1e+267\n",
      "   36    1.3e+56      264     1.6e+212    2.1e+268\n",
      "   37    1.9e+57      263     5.4e+211    1.0e+269\n",
      "   38    2.7e+58      262     1.9e+211    5.1e+269\n",
      "   39    3.8e+59      261     6.4e+210    2.4e+270\n",
      "   40    5.1e+60      260     2.2e+210    1.1e+271\n",
      "   41    6.7e+61      259     7.5e+209    5.1e+271\n",
      "   42    8.7e+62      258     2.6e+209    2.2e+272\n",
      "   43    1.1e+64      257     8.8e+208    9.6e+272\n",
      "   44    1.3e+65      256     3.0e+208    4.0e+273\n",
      "   45    1.6e+66      255     1.0e+208    1.6e+274\n",
      "   46    1.9e+67      254     3.4e+207    6.6e+274\n",
      "   47    2.2e+68      253     1.2e+207    2.6e+275\n",
      "   48    2.6e+69      252     3.9e+206    9.9e+275\n",
      "   49    2.9e+70      251     1.3e+206    3.7e+276\n",
      "   50    3.1e+71      250     4.4e+205    1.4e+277\n",
      "   51    3.4e+72      249     1.5e+205    4.9e+277\n",
      "   52    3.6e+73      248     4.8e+204    1.7e+278\n",
      "   53    3.7e+74      247     1.6e+204    6.0e+278\n",
      "   54    3.8e+75      246     5.3e+203    2.0e+279\n",
      "   55    3.8e+76      245     1.8e+203    6.8e+279\n",
      "   56    3.8e+77      244     5.8e+202    2.2e+280\n",
      "   57    3.7e+78      243     1.9e+202    7.1e+280\n",
      "   58    3.6e+79      242     6.2e+201    2.2e+281\n",
      "   59    3.4e+80      241     2.0e+201    6.9e+281\n",
      "   60    3.1e+81      240     6.6e+200    2.1e+282\n",
      "   61    2.9e+82      239     2.2e+200    6.2e+282\n",
      "   62    2.6e+83      238     7.0e+199    1.8e+283\n",
      "   63    2.3e+84      237     2.3e+199    5.2e+283\n",
      "   64    2.1e+85      236     7.2e+198    1.5e+284\n",
      "   65    1.8e+86      235     2.3e+198    4.1e+284\n",
      "   66    1.5e+87      234     7.5e+197    1.1e+285\n",
      "   67    1.3e+88      233     2.4e+197    3.1e+285\n",
      "   68    1.1e+89      232     7.6e+196    8.1e+285\n",
      "   69    8.8e+89      231     2.4e+196    2.1e+286\n",
      "   70    7.2e+90      230     7.6e+195    5.5e+286\n",
      "   71    5.8e+91      229     2.4e+195    1.4e+287\n",
      "   72    4.6e+92      228     7.5e+194    3.4e+287\n",
      "   73    3.6e+93      227     2.4e+194    8.5e+287\n",
      "   74    2.8e+94      226     7.4e+193    2.1e+288\n",
      "   75    2.1e+95      225     2.3e+193    4.9e+288\n",
      "   76    1.6e+96      224     7.2e+192    1.2e+289\n",
      "   77    1.2e+97      223     2.2e+192    2.7e+289\n",
      "   78    8.9e+97      222     6.9e+191    6.1e+289\n",
      "   79    6.5e+98      221     2.1e+191    1.4e+290\n",
      "   80    4.7e+99      220     6.5e+190    3.1e+290\n",
      "   81    3.4e+100      219     2.0e+190    6.7e+290\n",
      "   82    2.4e+101      218     6.0e+189    1.4e+291\n",
      "   83    1.7e+102      217     1.8e+189    3.1e+291\n",
      "   84    1.2e+103      216     5.6e+188    6.5e+291\n",
      "   85    8.0e+103      215     1.7e+188    1.3e+292\n",
      "   86    5.4e+104      214     5.1e+187    2.8e+292\n",
      "   87    3.7e+105      213     1.5e+187    5.6e+292\n",
      "   88    2.4e+106      212     4.6e+186    1.1e+293\n",
      "   89    1.6e+107      211     1.4e+186    2.2e+293\n",
      "   90    1.1e+108      210     4.0e+185    4.3e+293\n",
      "   91    6.8e+108      209     1.2e+185    8.2e+293\n",
      "   92    4.4e+109      208     3.5e+184    1.6e+294\n",
      "   93    2.8e+110      207     1.0e+184    2.9e+294\n",
      "   94    1.8e+111      206     3.0e+183    5.4e+294\n",
      "   95    1.1e+112      205     8.9e+182    9.8e+294\n",
      "   96    6.8e+112      204     2.6e+182    1.8e+295\n",
      "   97    4.2e+113      203     7.5e+181    3.2e+295\n",
      "   98    2.6e+114      202     2.2e+181    5.6e+295\n",
      "   99    1.5e+115      201     6.3e+180    9.7e+295\n",
      "  100    9.3e+115      200     1.8e+180    1.7e+296\n",
      "  101    5.5e+116      199     5.1e+179    2.8e+296\n",
      "  102    3.2e+117      198     1.5e+179    4.8e+296\n",
      "  103    1.9e+118      197     4.2e+178    7.9e+296\n",
      "  104    1.1e+119      196     1.2e+178    1.3e+297\n",
      "  105    6.3e+119      195     3.3e+177    2.1e+297\n",
      "  106    3.6e+120      194     9.3e+176    3.4e+297\n",
      "  107    2.0e+121      193     2.6e+176    5.3e+297\n",
      "  108    1.1e+122      192     7.3e+175    8.4e+297\n",
      "  109    6.4e+122      191     2.0e+175    1.3e+298\n",
      "  110    3.5e+123      190     5.6e+174    2.0e+298\n",
      "  111    1.9e+124      189     1.5e+174    3.0e+298\n",
      "  112    1.1e+125      188     4.3e+173    4.5e+298\n",
      "  113    5.8e+125      187     1.2e+173    6.7e+298\n",
      "  114    3.1e+126      186     3.2e+172    9.8e+298\n",
      "  115    1.7e+127      185     8.6e+171    1.4e+299\n",
      "  116    8.8e+127      184     2.3e+171    2.0e+299\n",
      "  117    4.6e+128      183     6.3e+170    2.9e+299\n",
      "  118    2.4e+129      182     1.7e+170    4.1e+299\n",
      "  119    1.3e+130      181     4.5e+169    5.6e+299\n",
      "  120    6.5e+130      180     1.2e+169    7.7e+299\n",
      "  121    3.3e+131      179     3.2e+168    1.1e+300\n",
      "  122    1.7e+132      178     8.4e+167    1.4e+300\n",
      "  123    8.5e+132      177     2.2e+167    1.9e+300\n",
      "  124    4.3e+133      176     5.8e+166    2.5e+300\n",
      "  125    2.1e+134      175     1.5e+166    3.2e+300\n",
      "  126    1.1e+135      174     3.9e+165    4.1e+300\n",
      "  127    5.2e+135      173     1.0e+165    5.3e+300\n",
      "  128    2.6e+136      172     2.6e+164    6.7e+300\n",
      "  129    1.2e+137      171     6.7e+163    8.3e+300\n",
      "  130    6.0e+137      170     1.7e+163    1.0e+301\n",
      "  131    2.9e+138      169     4.3e+162    1.3e+301\n",
      "  132    1.4e+139      168     1.1e+162    1.5e+301\n",
      "  133    6.6e+139      167     2.8e+161    1.8e+301\n",
      "  134    3.1e+140      166     6.9e+160    2.1e+301\n",
      "  135    1.5e+141      165     1.7e+160    2.5e+301\n",
      "  136    6.8e+141      164     4.3e+159    2.9e+301\n",
      "  137    3.2e+142      163     1.1e+159    3.4e+301\n",
      "  138    1.5e+143      162     2.6e+158    3.8e+301\n",
      "  139    6.7e+143      161     6.4e+157    4.3e+301\n",
      "  140    3.1e+144      160     1.6e+157    4.8e+301\n",
      "  141    1.4e+145      159     3.8e+156    5.3e+301\n",
      "  142    6.3e+145      158     9.2e+155    5.7e+301\n",
      "  143    2.8e+146      157     2.2e+155    6.2e+301\n",
      "  144    1.3e+147      156     5.3e+154    6.6e+301\n",
      "  145    5.6e+147      155     1.3e+154    7.0e+301\n",
      "  146    2.5e+148      154     3.0e+153    7.3e+301\n",
      "  147    1.1e+149      153     7.0e+152    7.6e+301\n",
      "  148    4.7e+149      152     1.6e+152    7.8e+301\n",
      "  149    2.1e+150      151     3.8e+151    7.9e+301\n",
      "  150    8.9e+150      150     8.9e+150    8.0e+301\n",
      "  151    3.8e+151      149     2.1e+150    7.9e+301\n",
      "  152    1.6e+152      148     4.7e+149    7.8e+301\n",
      "  153    7.0e+152      147     1.1e+149    7.6e+301\n",
      "  154    3.0e+153      146     2.5e+148    7.3e+301\n",
      "  155    1.3e+154      145     5.6e+147    7.0e+301\n",
      "  156    5.3e+154      144     1.3e+147    6.6e+301\n",
      "  157    2.2e+155      143     2.8e+146    6.2e+301\n",
      "  158    9.2e+155      142     6.3e+145    5.7e+301\n",
      "  159    3.8e+156      141     1.4e+145    5.3e+301\n",
      "  160    1.6e+157      140     3.1e+144    4.8e+301\n",
      "  161    6.4e+157      139     6.7e+143    4.3e+301\n",
      "  162    2.6e+158      138     1.5e+143    3.8e+301\n",
      "  163    1.1e+159      137     3.2e+142    3.4e+301\n",
      "  164    4.3e+159      136     6.8e+141    2.9e+301\n",
      "  165    1.7e+160      135     1.5e+141    2.5e+301\n",
      "  166    6.9e+160      134     3.1e+140    2.1e+301\n",
      "  167    2.8e+161      133     6.6e+139    1.8e+301\n",
      "  168    1.1e+162      132     1.4e+139    1.5e+301\n",
      "  169    4.3e+162      131     2.9e+138    1.3e+301\n",
      "  170    1.7e+163      130     6.0e+137    1.0e+301\n",
      "  171    6.7e+163      129     1.2e+137    8.3e+300\n",
      "  172    2.6e+164      128     2.6e+136    6.7e+300\n",
      "  173    1.0e+165      127     5.2e+135    5.3e+300\n",
      "  174    3.9e+165      126     1.1e+135    4.1e+300\n",
      "  175    1.5e+166      125     2.1e+134    3.2e+300\n",
      "  176    5.8e+166      124     4.3e+133    2.5e+300\n",
      "  177    2.2e+167      123     8.5e+132    1.9e+300\n",
      "  178    8.4e+167      122     1.7e+132    1.4e+300\n",
      "  179    3.2e+168      121     3.3e+131    1.1e+300\n",
      "  180    1.2e+169      120     6.5e+130    7.7e+299\n",
      "  181    4.5e+169      119     1.3e+130    5.6e+299\n",
      "  182    1.7e+170      118     2.4e+129    4.1e+299\n",
      "  183    6.3e+170      117     4.6e+128    2.9e+299\n",
      "  184    2.3e+171      116     8.8e+127    2.0e+299\n",
      "  185    8.6e+171      115     1.7e+127    1.4e+299\n",
      "  186    3.2e+172      114     3.1e+126    9.8e+298\n",
      "  187    1.2e+173      113     5.8e+125    6.7e+298\n",
      "  188    4.3e+173      112     1.1e+125    4.5e+298\n",
      "  189    1.5e+174      111     1.9e+124    3.0e+298\n",
      "  190    5.6e+174      110     3.5e+123    2.0e+298\n",
      "  191    2.0e+175      109     6.4e+122    1.3e+298\n",
      "  192    7.3e+175      108     1.1e+122    8.4e+297\n",
      "  193    2.6e+176      107     2.0e+121    5.3e+297\n",
      "  194    9.3e+176      106     3.6e+120    3.4e+297\n",
      "  195    3.3e+177      105     6.3e+119    2.1e+297\n",
      "  196    1.2e+178      104     1.1e+119    1.3e+297\n",
      "  197    4.2e+178      103     1.9e+118    7.9e+296\n",
      "  198    1.5e+179      102     3.2e+117    4.8e+296\n",
      "  199    5.1e+179      101     5.5e+116    2.8e+296\n",
      "  200    1.8e+180      100     9.3e+115    1.7e+296\n",
      "  201    6.3e+180       99     1.5e+115    9.7e+295\n",
      "  202    2.2e+181       98     2.6e+114    5.6e+295\n",
      "  203    7.5e+181       97     4.2e+113    3.2e+295\n",
      "  204    2.6e+182       96     6.8e+112    1.8e+295\n",
      "  205    8.9e+182       95     1.1e+112    9.8e+294\n",
      "  206    3.0e+183       94     1.8e+111    5.4e+294\n",
      "  207    1.0e+184       93     2.8e+110    2.9e+294\n",
      "  208    3.5e+184       92     4.4e+109    1.6e+294\n",
      "  209    1.2e+185       91     6.8e+108    8.2e+293\n",
      "  210    4.0e+185       90     1.1e+108    4.3e+293\n",
      "  211    1.4e+186       89     1.6e+107    2.2e+293\n",
      "  212    4.6e+186       88     2.4e+106    1.1e+293\n",
      "  213    1.5e+187       87     3.7e+105    5.6e+292\n",
      "  214    5.1e+187       86     5.4e+104    2.8e+292\n",
      "  215    1.7e+188       85     8.0e+103    1.3e+292\n",
      "  216    5.6e+188       84     1.2e+103    6.5e+291\n",
      "  217    1.8e+189       83     1.7e+102    3.1e+291\n",
      "  218    6.0e+189       82     2.4e+101    1.4e+291\n",
      "  219    2.0e+190       81     3.4e+100    6.7e+290\n",
      "  220    6.5e+190       80     4.7e+99    3.1e+290\n",
      "  221    2.1e+191       79     6.5e+98    1.4e+290\n",
      "  222    6.9e+191       78     8.9e+97    6.1e+289\n",
      "  223    2.2e+192       77     1.2e+97    2.7e+289\n",
      "  224    7.2e+192       76     1.6e+96    1.2e+289\n",
      "  225    2.3e+193       75     2.1e+95    4.9e+288\n",
      "  226    7.4e+193       74     2.8e+94    2.1e+288\n",
      "  227    2.4e+194       73     3.6e+93    8.5e+287\n",
      "  228    7.5e+194       72     4.6e+92    3.4e+287\n",
      "  229    2.4e+195       71     5.8e+91    1.4e+287\n",
      "  230    7.6e+195       70     7.2e+90    5.5e+286\n",
      "  231    2.4e+196       69     8.8e+89    2.1e+286\n",
      "  232    7.6e+196       68     1.1e+89    8.1e+285\n",
      "  233    2.4e+197       67     1.3e+88    3.1e+285\n",
      "  234    7.5e+197       66     1.5e+87    1.1e+285\n",
      "  235    2.3e+198       65     1.8e+86    4.1e+284\n",
      "  236    7.2e+198       64     2.1e+85    1.5e+284\n",
      "  237    2.3e+199       63     2.3e+84    5.2e+283\n",
      "  238    7.0e+199       62     2.6e+83    1.8e+283\n",
      "  239    2.2e+200       61     2.9e+82    6.2e+282\n",
      "  240    6.6e+200       60     3.1e+81    2.1e+282\n",
      "  241    2.0e+201       59     3.4e+80    6.9e+281\n",
      "  242    6.2e+201       58     3.6e+79    2.2e+281\n",
      "  243    1.9e+202       57     3.7e+78    7.1e+280\n",
      "  244    5.8e+202       56     3.8e+77    2.2e+280\n",
      "  245    1.8e+203       55     3.8e+76    6.8e+279\n",
      "  246    5.3e+203       54     3.8e+75    2.0e+279\n",
      "  247    1.6e+204       53     3.7e+74    6.0e+278\n",
      "  248    4.8e+204       52     3.6e+73    1.7e+278\n",
      "  249    1.5e+205       51     3.4e+72    4.9e+277\n",
      "  250    4.4e+205       50     3.1e+71    1.4e+277\n",
      "  251    1.3e+206       49     2.9e+70    3.7e+276\n",
      "  252    3.9e+206       48     2.6e+69    9.9e+275\n",
      "  253    1.2e+207       47     2.2e+68    2.6e+275\n",
      "  254    3.4e+207       46     1.9e+67    6.6e+274\n",
      "  255    1.0e+208       45     1.6e+66    1.6e+274\n",
      "  256    3.0e+208       44     1.3e+65    4.0e+273\n",
      "  257    8.8e+208       43     1.1e+64    9.6e+272\n",
      "  258    2.6e+209       42     8.7e+62    2.2e+272\n",
      "  259    7.5e+209       41     6.7e+61    5.1e+271\n",
      "  260    2.2e+210       40     5.1e+60    1.1e+271\n",
      "  261    6.4e+210       39     3.8e+59    2.4e+270\n",
      "  262    1.9e+211       38     2.7e+58    5.1e+269\n",
      "  263    5.4e+211       37     1.9e+57    1.0e+269\n",
      "  264    1.6e+212       36     1.3e+56    2.1e+268\n",
      "  265    4.5e+212       35     9.0e+54    4.1e+267\n",
      "  266    1.3e+213       34     5.9e+53    7.6e+266\n",
      "  267    3.7e+213       33     3.8e+52    1.4e+266\n",
      "  268    1.1e+214       32     2.3e+51    2.5e+265\n",
      "  269    3.0e+214       31     1.4e+50    4.3e+264\n",
      "  270    8.6e+214       30     8.2e+48    7.1e+263\n",
      "  271    2.5e+215       29     4.7e+47    1.1e+263\n",
      "  272    6.9e+215       28     2.6e+46    1.8e+262\n",
      "  273    2.0e+216       27     1.4e+45    2.7e+261\n",
      "  274    5.5e+216       26     7.0e+43    3.9e+260\n",
      "  275    1.6e+217       25     3.5e+42    5.4e+259\n",
      "  276    4.4e+217       24     1.7e+41    7.2e+258\n",
      "  277    1.2e+218       23     7.6e+39    9.3e+257\n",
      "  278    3.4e+218       22     3.3e+38    1.1e+257\n",
      "  279    9.6e+218       21     1.4e+37    1.4e+256\n",
      "  280    2.7e+219       20     5.7e+35    1.5e+255\n",
      "  281    7.4e+219       19     2.2e+34    1.6e+254\n",
      "  282    2.0e+220       18     8.1e+32    1.6e+253\n",
      "  283    5.7e+220       17     2.8e+31    1.6e+252\n",
      "  284    1.6e+221       16     9.2e+29    1.4e+251\n",
      "  285    4.3e+221       15     2.9e+28    1.2e+250\n",
      "  286    1.2e+222       14     8.4e+26    9.9e+248\n",
      "  287    3.2e+222       13     2.3e+25    7.4e+247\n",
      "  288    8.8e+222       12     5.8e+23    5.1e+246\n",
      "  289    2.4e+223       11     1.4e+22    3.3e+245\n",
      "  290    6.5e+223       10     2.9e+20    1.9e+244\n",
      "  291    1.8e+224        9     5.8e+18    1.0e+243\n",
      "  292    4.8e+224        8     1.0e+17    4.9e+241\n",
      "  293    1.3e+225        7     1.6e+15    2.1e+240\n",
      "  294    3.5e+225        6     2.2e+13    7.8e+238\n",
      "  295    9.4e+225        5     2.7e+11    2.5e+237\n",
      "  296    2.5e+226        4     2.6e+09    6.7e+235\n",
      "  297    6.8e+226        3     2.1e+07    1.4e+234\n",
      "  298    1.8e+227        2      125250    2.3e+232\n",
      "  299    4.8e+227        1         500    2.4e+230\n",
      "  300    1.3e+228        0           1    1.3e+228\n",
      "Total microstates =  2.0e+303\n"
     ]
    }
   ],
   "source": [
    "Omega_tot_array = macrostate_table(500, 500, 300, table=True)"
   ]
  },
  {
   "cell_type": "code",
   "execution_count": 15,
   "id": "9f60e675",
   "metadata": {},
   "outputs": [
    {
     "data": {
      "image/png": "[encoded data removed]",
      "text/plain": [
       "<Figure size 640x480 with 1 Axes>"
      ]
     },
     "metadata": {},
     "output_type": "display_data"
    }
   ],
   "source": [
    "fig, ax0 = plt.subplots(1, 1)\n",
    "q_array = np.arange(len(Omega_tot_array))\n",
    "ax0.plot(q_array, Omega_tot_array, color='blue')\n",
    "ax0.fill_between(q_array, Omega_tot_array, color='lightblue')\n",
    "ax0.set_xlabel(r'$q_A$')\n",
    "ax0.set_ylabel(r'total multiplicity $\\Omega_{\\rm total}$')\n",
    "ax0.set_xlim(q_array[0], q_array[-1])\n",
    "fig.tight_layout()"
   ]
  },
  {
   "cell_type": "code",
   "execution_count": 16,
   "id": "036c48e0",
   "metadata": {},
   "outputs": [
    {
     "ename": "OverflowError",
     "evalue": "int too large to convert to float",
     "output_type": "error",
     "traceback": [
      "\u001b[0;31m---------------------------------------------------------------------------\u001b[0m",
      "\u001b[0;31mOverflowError\u001b[0m                             Traceback (most recent call last)",
      "Cell \u001b[0;32mIn[16], line 1\u001b[0m\n\u001b[0;32m----> 1\u001b[0m Omega_tot_array \u001b[38;5;241m=\u001b[39m \u001b[43mmacrostate_table\u001b[49m\u001b[43m(\u001b[49m\u001b[38;5;241;43m600\u001b[39;49m\u001b[43m,\u001b[49m\u001b[43m \u001b[49m\u001b[38;5;241;43m500\u001b[39;49m\u001b[43m,\u001b[49m\u001b[43m \u001b[49m\u001b[38;5;241;43m300\u001b[39;49m\u001b[43m,\u001b[49m\u001b[43m \u001b[49m\u001b[43mtable\u001b[49m\u001b[38;5;241;43m=\u001b[39;49m\u001b[38;5;28;43;01mFalse\u001b[39;49;00m\u001b[43m)\u001b[49m\n",
      "Cell \u001b[0;32mIn[8], line 25\u001b[0m, in \u001b[0;36mmacrostate_table\u001b[0;34m(N_A, N_B, q_tot, table)\u001b[0m\n\u001b[1;32m     22\u001b[0m Omega_B \u001b[38;5;241m=\u001b[39m ein_mult(N_B, q_B) \n\u001b[1;32m     24\u001b[0m Omega_tot \u001b[38;5;241m=\u001b[39m Omega_A \u001b[38;5;241m*\u001b[39m Omega_B\n\u001b[0;32m---> 25\u001b[0m Omega_tot_array[q_A] \u001b[38;5;241m=\u001b[39m Omega_tot\n\u001b[1;32m     26\u001b[0m tot_microstates \u001b[38;5;241m+\u001b[39m\u001b[38;5;241m=\u001b[39m Omega_tot\n\u001b[1;32m     28\u001b[0m \u001b[38;5;28;01mif\u001b[39;00m table:\n",
      "\u001b[0;31mOverflowError\u001b[0m: int too large to convert to float"
     ]
    }
   ],
   "source": [
    "Omega_tot_array = macrostate_table(600, 500, 300, table=False)"
   ]
  },
  {
   "cell_type": "code",
   "execution_count": null,
   "id": "cbf4094e",
   "metadata": {},
   "outputs": [],
   "source": []
  }
 ],
 "metadata": {
  "kernelspec": {
   "display_name": "Python 3 (ipykernel)",
   "language": "python",
   "name": "python3"
  },
  "language_info": {
   "codemirror_mode": {
    "name": "ipython",
    "version": 3
   },
   "file_extension": ".py",
   "mimetype": "text/x-python",
   "name": "python",
   "nbconvert_exporter": "python",
   "pygments_lexer": "ipython3",
   "version": "3.9.18"
  }
 },
 "nbformat": 4,
 "nbformat_minor": 5
}
