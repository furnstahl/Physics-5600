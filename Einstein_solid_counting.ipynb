{
 "cells": [
  {
   "cell_type": "markdown",
   "id": "194250d0",
   "metadata": {},
   "source": [
    "# Calculating and plotting Einstein solids\n",
    "\n",
    "We'll follow the notation in the Schroeder text in sections 2.2 and 2.3.\n",
    "\n",
    "The multiplicity for a single Einstein solid with $N$ oscillators and total energy $q$ (in units of $hf$) is:\n",
    "$$\n",
    "        \\Omega(N,q) = {q+N-1\\choose q} = \\frac{(q+N-1)!}{q!(N-1)!}\n",
    "$$\n",
    "\n"
   ]
  },
  {
   "cell_type": "code",
   "execution_count": 1,
   "id": "4030f05a",
   "metadata": {},
   "outputs": [],
   "source": [
    "import numpy as np\n",
    "from scipy.special import comb\n",
    "import matplotlib.pyplot as plt"
   ]
  },
  {
   "cell_type": "code",
   "execution_count": 2,
   "id": "9909e114",
   "metadata": {},
   "outputs": [],
   "source": [
    "def ein_mult(N, q):\n",
    "    \"\"\"\n",
    "    Calculate the Einstein solid multiplicity and return it as\n",
    "     an integer.\n",
    "    \"\"\"\n",
    "    return int(comb(q + N -1, q))  "
   ]
  },
  {
   "cell_type": "markdown",
   "id": "8e6a43d8",
   "metadata": {},
   "source": [
    "## Schroeder section 2.2 Einstein model"
   ]
  },
  {
   "cell_type": "markdown",
   "id": "042cd686",
   "metadata": {},
   "source": [
    "### Problem 2.5\n",
    "For an Einstein solid with each of the following values of $N$ and $q$, list all of the possible microstates, count them, and verify the multiplicity formula.\n",
    "\n",
    "(a) $N=3$, $q=4$ <br>\n",
    "(b) $N=3$, $q=5$ <br>\n",
    "(c) $N=3$, $q=6$ <br>\n",
    "(d) $N=4$, $q=2$ <br>\n",
    "(e) $N=4$, $q=3$ <br>\n",
    "(f) $N=1$, $q=\\mbox{anything}$ <br>\n",
    "(g) $N=\\mbox{anything}$, $q=1$"
   ]
  },
  {
   "cell_type": "code",
   "execution_count": 3,
   "id": "588eca42",
   "metadata": {},
   "outputs": [
    {
     "data": {
      "text/plain": [
       "28"
      ]
     },
     "execution_count": 3,
     "metadata": {},
     "output_type": "execute_result"
    }
   ],
   "source": [
    "ein_mult(3, 6)  # 2.5(a)"
   ]
  },
  {
   "cell_type": "code",
   "execution_count": 4,
   "id": "62224238",
   "metadata": {},
   "outputs": [
    {
     "data": {
      "text/plain": [
       "20"
      ]
     },
     "execution_count": 4,
     "metadata": {},
     "output_type": "execute_result"
    }
   ],
   "source": [
    "ein_mult(4, 3)  # 2.5(e)"
   ]
  },
  {
   "cell_type": "code",
   "execution_count": 5,
   "id": "237a70a8",
   "metadata": {},
   "outputs": [
    {
     "data": {
      "text/plain": [
       "1"
      ]
     },
     "execution_count": 5,
     "metadata": {},
     "output_type": "execute_result"
    }
   ],
   "source": [
    "ein_mult(1, 20)  # 2.5(f) --> try other q values"
   ]
  },
  {
   "cell_type": "markdown",
   "id": "3e3a7314",
   "metadata": {},
   "source": [
    "### Problem 2.6\n",
    "\n",
    "Calculate the multiplicity of an Einstein solid with 30 oscillators and 30 units of energy."
   ]
  },
  {
   "cell_type": "code",
   "execution_count": 6,
   "id": "0e7f3887",
   "metadata": {},
   "outputs": [
    {
     "name": "stdout",
     "output_type": "stream",
     "text": [
      "answer = 5.91e+16\n"
     ]
    }
   ],
   "source": [
    "print(f'answer = {ein_mult(30, 30):.2e}') # print 3 sig figs"
   ]
  },
  {
   "cell_type": "markdown",
   "id": "27d1c44e",
   "metadata": {},
   "source": [
    "## Section 2.3 Interacting systems"
   ]
  },
  {
   "cell_type": "code",
   "execution_count": 7,
   "id": "642ae466",
   "metadata": {},
   "outputs": [],
   "source": [
    "def convert_int(my_int, large=10**7):\n",
    "    \"\"\"\n",
    "    If my_int is larger than large, return an exponential form.\n",
    "      The right justification for ints should be log10(large) + 1.\n",
    "    \"\"\"\n",
    "    if my_int > large:\n",
    "        return \"{: .1e}\".format(my_int)\n",
    "    else:\n",
    "        return \"{:> 8}\".format(my_int)"
   ]
  },
  {
   "cell_type": "code",
   "execution_count": 8,
   "id": "55283398",
   "metadata": {},
   "outputs": [],
   "source": [
    "def macrostate_table(N_A, N_B, q_tot, table=True):\n",
    "    \"\"\"\n",
    "    Step through q_A and q_B = q_tot - q_A and use ein_mult \n",
    "      to find Omega_A and Omega_B.\n",
    "    Total multiplicity from: Omega_tot = Omega_A * Omega_B\n",
    "   \n",
    "    Construct a table like in Schroeder with macrostates \n",
    "      and multiplicities for a system of two Einstein solids\n",
    "      and return an array of Omega_tot values.\n",
    "      \n",
    "    If table=False, don't print the table but return the array\n",
    "     of Omega_tot values.\n",
    "    \"\"\"\n",
    "    if table:\n",
    "        print('  q_A     Omega_A     q_B      Omega_B   Omega_tot')\n",
    "    tot_microstates = 0\n",
    "    Omega_tot_array = np.zeros(q_tot+1)  # collect Omega_tot values\n",
    "    for q_A in range(q_tot+1):\n",
    "        Omega_A = ein_mult(N_A, q_A) \n",
    "        \n",
    "        q_B = q_tot - q_A\n",
    "        Omega_B = ein_mult(N_B, q_B) \n",
    "\n",
    "        Omega_tot = Omega_A * Omega_B\n",
    "        Omega_tot_array[q_A] = Omega_tot\n",
    "        tot_microstates += Omega_tot\n",
    "        \n",
    "        if table:\n",
    "            print (f' {q_A:> 4}   {convert_int(Omega_A)}     {q_B:> 4}',\n",
    "                   f'   {convert_int(Omega_B)}  ',\n",
    "                   f'{convert_int(Omega_tot)}')\n",
    "    print(f'Total microstates = {convert_int(tot_microstates)}')\n",
    "    return Omega_tot_array"
   ]
  },
  {
   "cell_type": "markdown",
   "id": "847eef25",
   "metadata": {},
   "source": [
    "### Figure 2.4"
   ]
  },
  {
   "cell_type": "code",
   "execution_count": 9,
   "id": "9dd5ddf8",
   "metadata": {},
   "outputs": [
    {
     "name": "stdout",
     "output_type": "stream",
     "text": [
      "  q_A     Omega_A     q_B      Omega_B   Omega_tot\n",
      "    0          1        6          28         28\n",
      "    1          3        5          21         63\n",
      "    2          6        4          15         90\n",
      "    3         10        3          10        100\n",
      "    4         15        2           6         90\n",
      "    5         21        1           3         63\n",
      "    6         28        0           1         28\n",
      "Total microstates =      462\n"
     ]
    }
   ],
   "source": [
    "Omega_tot_array = macrostate_table(3, 3, 6)"
   ]
  },
  {
   "cell_type": "code",
   "execution_count": 10,
   "id": "5763be9c",
   "metadata": {},
   "outputs": [
    {
     "data": {
      "text/plain": [
       "array([ 28.,  63.,  90., 100.,  90.,  63.,  28.])"
      ]
     },
     "execution_count": 10,
     "metadata": {},
     "output_type": "execute_result"
    }
   ],
   "source": [
    "Omega_tot_array"
   ]
  },
  {
   "cell_type": "code",
   "execution_count": 11,
   "id": "08d0ddb7",
   "metadata": {},
   "outputs": [
    {
     "data": {
      "image/png": "[encoded data removed]",
      "text/plain": [
       "<Figure size 640x480 with 1 Axes>"
      ]
     },
     "metadata": {},
     "output_type": "display_data"
    }
   ],
   "source": [
    "fig, ax0 = plt.subplots(1, 1)\n",
    "q_array = np.arange(len(Omega_tot_array))\n",
    "ax0.bar(q_array, Omega_tot_array, edgecolor='blue', color='lightblue')\n",
    "ax0.set_xlabel('q')\n",
    "ax0.se\n",
    "#ax0.set_xlim(q_array[0], q_array[-1])\n",
    "fig.tight_layout()"
   ]
  },
  {
   "cell_type": "markdown",
   "id": "efdc916a",
   "metadata": {},
   "source": [
    "### Figure 2.5"
   ]
  },
  {
   "cell_type": "code",
   "execution_count": 12,
   "id": "962537a6",
   "metadata": {},
   "outputs": [
    {
     "name": "stdout",
     "output_type": "stream",
     "text": [
      "  q_A     Omega_A     q_B      Omega_B   Omega_tot\n",
      "    0          1      100     2.8e+81    2.8e+81\n",
      "    1        300       99     9.3e+80    2.8e+83\n",
      "    2      45150       98     3.1e+80    1.4e+85\n",
      "    3    4545100       97     1.0e+80    4.6e+86\n",
      "    4    3.4e+08       96     3.3e+79    1.1e+88\n",
      "    5    2.1e+10       95     1.1e+79    2.3e+89\n",
      "    6    1.1e+12       94     3.5e+78    3.7e+90\n",
      "    7    4.7e+13       93     1.1e+78    5.2e+91\n",
      "    8    1.8e+15       92     3.6e+77    6.4e+92\n",
      "    9    6.1e+16       91     1.1e+77    6.9e+93\n",
      "   10    1.9e+18       90     3.6e+76    6.7e+94\n",
      "   11    5.3e+19       89     1.1e+76    5.9e+95\n",
      "   12    1.4e+21       88     3.4e+75    4.7e+96\n",
      "   13    3.3e+22       87     1.0e+75    3.5e+97\n",
      "   14    7.4e+23       86     3.2e+74    2.4e+98\n",
      "   15    1.5e+25       85     9.6e+73    1.5e+99\n",
      "   16    3.0e+26       84     2.9e+73    8.8e+99\n",
      "   17    5.7e+27       83     8.5e+72    4.8e+100\n",
      "   18    1.0e+29       82     2.5e+72    2.5e+101\n",
      "   19    1.7e+30       81     7.3e+71    1.2e+102\n",
      "   20    2.7e+31       80     2.1e+71    5.7e+102\n",
      "   21    4.1e+32       79     6.1e+70    2.5e+103\n",
      "   22    5.9e+33       78     1.7e+70    1.0e+104\n",
      "   23    8.3e+34       77     4.9e+69    4.0e+104\n",
      "   24    1.1e+36       76     1.4e+69    1.5e+105\n",
      "   25    1.4e+37       75     3.8e+68    5.4e+105\n",
      "   26    1.8e+38       74     1.0e+68    1.9e+106\n",
      "   27    2.2e+39       73     2.8e+67    6.1e+106\n",
      "   28    2.5e+40       72     7.5e+66    1.9e+107\n",
      "   29    2.9e+41       71     2.0e+66    5.7e+107\n",
      "   30    3.2e+42       70     5.2e+65    1.7e+108\n",
      "   31    3.4e+43       69     1.4e+65    4.6e+108\n",
      "   32    3.5e+44       68     3.5e+64    1.2e+109\n",
      "   33    3.5e+45       67     8.9e+63    3.1e+109\n",
      "   34    3.4e+46       66     2.2e+63    7.7e+109\n",
      "   35    3.3e+47       65     5.6e+62    1.8e+110\n",
      "   36    3.0e+48       64     1.4e+62    4.2e+110\n",
      "   37    2.8e+49       63     3.4e+61    9.3e+110\n",
      "   38    2.5e+50       62     8.1e+60    2.0e+111\n",
      "   39    2.1e+51       61     1.9e+60    4.1e+111\n",
      "   40    1.8e+52       60     4.5e+59    8.1e+111\n",
      "   41    1.5e+53       59     1.0e+59    1.6e+112\n",
      "   42    1.2e+54       58     2.4e+58    2.9e+112\n",
      "   43    9.7e+54       57     5.4e+57    5.2e+112\n",
      "   44    7.5e+55       56     1.2e+57    9.0e+112\n",
      "   45    5.8e+56       55     2.6e+56    1.5e+113\n",
      "   46    4.3e+57       54     5.7e+55    2.5e+113\n",
      "   47    3.2e+58       53     1.2e+55    3.9e+113\n",
      "   48    2.3e+59       52     2.6e+54    5.9e+113\n",
      "   49    1.6e+60       51     5.3e+53    8.6e+113\n",
      "   50    1.1e+61       50     1.1e+53    1.2e+114\n",
      "   51    7.8e+61       49     2.2e+52    1.7e+114\n",
      "   52    5.3e+62       48     4.3e+51    2.3e+114\n",
      "   53    3.5e+63       47     8.3e+50    2.9e+114\n",
      "   54    2.3e+64       46     1.6e+50    3.6e+114\n",
      "   55    1.5e+65       45     3.0e+49    4.4e+114\n",
      "   56    9.3e+65       44     5.5e+48    5.1e+114\n",
      "   57    5.8e+66       43     1.0e+48    5.8e+114\n",
      "   58    3.6e+67       42     1.8e+47    6.4e+114\n",
      "   59    2.2e+68       41     3.1e+46    6.7e+114\n",
      "   60    1.3e+69       40     5.3e+45    6.9e+114\n",
      "   61    7.7e+69       39     8.8e+44    6.8e+114\n",
      "   62    4.5e+70       38     1.4e+44    6.5e+114\n",
      "   63    2.6e+71       37     2.3e+43    6.0e+114\n",
      "   64    1.5e+72       36     3.6e+42    5.3e+114\n",
      "   65    8.2e+72       35     5.6e+41    4.5e+114\n",
      "   66    4.5e+73       34     8.3e+40    3.8e+114\n",
      "   67    2.5e+74       33     1.2e+40    3.0e+114\n",
      "   68    1.3e+75       32     1.7e+39    2.3e+114\n",
      "   69    7.1e+75       31     2.4e+38    1.7e+114\n",
      "   70    3.7e+76       30     3.2e+37    1.2e+114\n",
      "   71    2.0e+77       29     4.2e+36    8.2e+113\n",
      "   72    1.0e+78       28     5.4e+35    5.4e+113\n",
      "   73    5.1e+78       27     6.6e+34    3.4e+113\n",
      "   74    2.6e+79       26     7.9e+33    2.0e+113\n",
      "   75    1.3e+80       25     9.2e+32    1.2e+113\n",
      "   76    6.4e+80       24     1.0e+32    6.5e+112\n",
      "   77    3.1e+81       23     1.1e+31    3.4e+112\n",
      "   78    1.5e+82       22     1.1e+30    1.7e+112\n",
      "   79    7.2e+82       21     1.1e+29    8.1e+111\n",
      "   80    3.4e+83       20     1.1e+28    3.7e+111\n",
      "   81    1.6e+84       19     9.9e+26    1.6e+111\n",
      "   82    7.4e+84       18     8.6e+25    6.4e+110\n",
      "   83    3.4e+85       17     7.1e+24    2.4e+110\n",
      "   84    1.6e+86       16     5.6e+23    8.8e+109\n",
      "   85    7.0e+86       15     4.2e+22    2.9e+109\n",
      "   86    3.1e+87       14     2.9e+21    9.2e+108\n",
      "   87    1.4e+88       13     1.9e+20    2.7e+108\n",
      "   88    6.1e+88       12     1.2e+19    7.3e+107\n",
      "   89    2.7e+89       11     6.7e+17    1.8e+107\n",
      "   90    1.2e+90       10     3.5e+16    4.1e+106\n",
      "   91    5.0e+90        9     1.7e+15    8.4e+105\n",
      "   92    2.1e+91        8     7.3e+13    1.5e+105\n",
      "   93    8.9e+91        7     2.8e+12    2.5e+104\n",
      "   94    3.7e+92        6     9.6e+10    3.6e+103\n",
      "   95    1.5e+93        5     2.8e+09    4.3e+102\n",
      "   96    6.3e+93        4     6.9e+07    4.4e+101\n",
      "   97    2.6e+94        3     1353400    3.5e+100\n",
      "   98    1.0e+95        2       20100    2.1e+99\n",
      "   99    4.2e+95        1         200    8.4e+97\n",
      "  100    1.7e+96        0           1    1.7e+96\n",
      "Total microstates =  9.3e+115\n"
     ]
    }
   ],
   "source": [
    "Omega_tot_array = macrostate_table(300, 200, 100)"
   ]
  },
  {
   "cell_type": "code",
   "execution_count": 13,
   "id": "6b7954f7",
   "metadata": {},
   "outputs": [
    {
     "data": {
      "image/png": "[encoded data removed]",
      "text/plain": [
       "<Figure size 640x480 with 1 Axes>"
      ]
     },
     "metadata": {},
     "output_type": "display_data"
    }
   ],
   "source": [
    "fig, ax0 = plt.subplots(1, 1)\n",
    "q_array = np.arange(len(Omega_tot_array))\n",
    "ax0.plot(q_array, Omega_tot_array, color='blue')\n",
    "ax0.fill_between(q_array, Omega_tot_array, color='lightblue')\n",
    "ax0.set_xlim(q_array[0], q_array[-1])\n",
    "fig.tight_layout()"
   ]
  },
  {
   "cell_type": "markdown",
   "id": "f6b25ce4",
   "metadata": {},
   "source": [
    "### Test the upper limit of system size\n",
    "\n",
    "The largest float in Python is about $2.3\\times 10^{308}$."
   ]
  },
  {
   "cell_type": "code",
   "execution_count": 14,
   "id": "3b744531",
   "metadata": {},
   "outputs": [
    {
     "name": "stdout",
     "output_type": "stream",
     "text": [
      "Total microstates =  2.0e+303\n"
     ]
    }
   ],
   "source": [
    "Omega_tot_array = macrostate_table(500, 500, 300, table=False)"
   ]
  },
  {
   "cell_type": "code",
   "execution_count": 15,
   "id": "9f60e675",
   "metadata": {},
   "outputs": [
    {
     "data": {
      "image/png": "[encoded data removed]",
      "text/plain": [
       "<Figure size 640x480 with 1 Axes>"
      ]
     },
     "metadata": {},
     "output_type": "display_data"
    }
   ],
   "source": [
    "fig, ax0 = plt.subplots(1, 1)\n",
    "q_array = np.arange(len(Omega_tot_array))\n",
    "ax0.plot(q_array, Omega_tot_array, color='blue')\n",
    "ax0.fill_between(q_array, Omega_tot_array, color='lightblue')\n",
    "ax0.set_xlim(q_array[0], q_array[-1])\n",
    "fig.tight_layout()"
   ]
  },
  {
   "cell_type": "code",
   "execution_count": 16,
   "id": "036c48e0",
   "metadata": {},
   "outputs": [
    {
     "ename": "OverflowError",
     "evalue": "int too large to convert to float",
     "output_type": "error",
     "traceback": [
      "\u001b[0;31m---------------------------------------------------------------------------\u001b[0m",
      "\u001b[0;31mOverflowError\u001b[0m                             Traceback (most recent call last)",
      "Cell \u001b[0;32mIn[16], line 1\u001b[0m\n\u001b[0;32m----> 1\u001b[0m Omega_tot_array \u001b[38;5;241m=\u001b[39m \u001b[43mmacrostate_table\u001b[49m\u001b[43m(\u001b[49m\u001b[38;5;241;43m600\u001b[39;49m\u001b[43m,\u001b[49m\u001b[43m \u001b[49m\u001b[38;5;241;43m500\u001b[39;49m\u001b[43m,\u001b[49m\u001b[43m \u001b[49m\u001b[38;5;241;43m300\u001b[39;49m\u001b[43m,\u001b[49m\u001b[43m \u001b[49m\u001b[43mtable\u001b[49m\u001b[38;5;241;43m=\u001b[39;49m\u001b[38;5;28;43;01mFalse\u001b[39;49;00m\u001b[43m)\u001b[49m\n",
      "Cell \u001b[0;32mIn[8], line 25\u001b[0m, in \u001b[0;36mmacrostate_table\u001b[0;34m(N_A, N_B, q_tot, table)\u001b[0m\n\u001b[1;32m     22\u001b[0m Omega_B \u001b[38;5;241m=\u001b[39m ein_mult(N_B, q_B) \n\u001b[1;32m     24\u001b[0m Omega_tot \u001b[38;5;241m=\u001b[39m Omega_A \u001b[38;5;241m*\u001b[39m Omega_B\n\u001b[0;32m---> 25\u001b[0m Omega_tot_array[q_A] \u001b[38;5;241m=\u001b[39m Omega_tot\n\u001b[1;32m     26\u001b[0m tot_microstates \u001b[38;5;241m+\u001b[39m\u001b[38;5;241m=\u001b[39m Omega_tot\n\u001b[1;32m     28\u001b[0m \u001b[38;5;28;01mif\u001b[39;00m table:\n",
      "\u001b[0;31mOverflowError\u001b[0m: int too large to convert to float"
     ]
    }
   ],
   "source": [
    "Omega_tot_array = macrostate_table(600, 500, 300, table=False)"
   ]
  },
  {
   "cell_type": "code",
   "execution_count": null,
   "id": "cbf4094e",
   "metadata": {},
   "outputs": [],
   "source": []
  }
 ],
 "metadata": {
  "kernelspec": {
   "display_name": "Python 3 (ipykernel)",
   "language": "python",
   "name": "python3"
  },
  "language_info": {
   "codemirror_mode": {
    "name": "ipython",
    "version": 3
   },
   "file_extension": ".py",
   "mimetype": "text/x-python",
   "name": "python",
   "nbconvert_exporter": "python",
   "pygments_lexer": "ipython3",
   "version": "3.9.18"
  }
 },
 "nbformat": 4,
 "nbformat_minor": 5
}
