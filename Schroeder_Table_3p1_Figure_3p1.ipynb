{
 "cells": [
  {
   "cell_type": "markdown",
   "id": "194250d0",
   "metadata": {},
   "source": [
    "# Generating Schroeder Table 3.1 and Figure 3.1\n"
   ]
  },
  {
   "cell_type": "markdown",
   "id": "8f437b74",
   "metadata": {},
   "source": [
    "We have two Einstein solids, $A$ and $B$, which have $N_A$ and $N_B$ oscillators, respectively. The individual multiplicities of each solid are:\n",
    "$$\n",
    "        \\Omega_A(N_A,q_A) = {q_A+N_A-1\\choose q_A} = \\frac{(q_A+N_A-1)!}{q_A!(N_A-1)!}\n",
    "$$\n",
    "\n",
    "$$\n",
    "        \\Omega_B(N_B,q_B) = {q_B+N_B-1\\choose B_A} = \\frac{(q_B+N_B-1)!}{q_B!(N_B-1)!}\n",
    "$$\n",
    "\n",
    "while the total multiplicity with $q_{\\rm total} = q_A + q_B$ is\n",
    "  $ \\Omega_{\\rm total} = \\Omega_A \\times \\Omega_B$.\n"
   ]
  },
  {
   "cell_type": "code",
   "execution_count": 1,
   "id": "4030f05a",
   "metadata": {},
   "outputs": [],
   "source": [
    "import numpy as np\n",
    "import math\n",
    "from scipy.special import comb\n",
    "import matplotlib.pyplot as plt"
   ]
  },
  {
   "cell_type": "code",
   "execution_count": 2,
   "id": "9909e114",
   "metadata": {},
   "outputs": [],
   "source": [
    "def ein_mult(N, q):\n",
    "    \"\"\"\n",
    "    Calculate the Einstein solid multiplicity and return it as\n",
    "     an integer.\n",
    "    \"\"\"\n",
    "    return int(comb(q + N -1, q))  "
   ]
  },
  {
   "cell_type": "code",
   "execution_count": 3,
   "id": "08d6dd8c",
   "metadata": {},
   "outputs": [],
   "source": [
    "def ein_entropy_over_k(N, q):\n",
    "    \"\"\"\n",
    "    Calculate the Einstein solid entropy divided by k (so just the\n",
    "      ln of the multiplicity).\n",
    "    \"\"\"\n",
    "    return np.log(np.float64(ein_mult(N,q)))  "
   ]
  },
  {
   "cell_type": "code",
   "execution_count": 4,
   "id": "642ae466",
   "metadata": {},
   "outputs": [],
   "source": [
    "def convert_int(my_int, large=10**6):\n",
    "    \"\"\"\n",
    "    If my_int is larger than large, return an exponential form.\n",
    "      The right justification for ints should be log10(large) + 1.\n",
    "    \"\"\"\n",
    "    if my_int > large:\n",
    "        return \"{: .1e}\".format(my_int)\n",
    "    else:\n",
    "        return \"{:>8}\".format(my_int)"
   ]
  },
  {
   "cell_type": "code",
   "execution_count": 5,
   "id": "6f663d7d",
   "metadata": {},
   "outputs": [],
   "source": [
    "def round_to_n(num, sigfigs):\n",
    "    \"\"\"\n",
    "    Round off num to the specifie number of sigfigs (significant figures)\n",
    "    \"\"\"\n",
    "    if num == 0:\n",
    "        return num\n",
    "    else:\n",
    "        return round(num, -int(math.floor(math.log10(abs(num)))) + (sigfigs - 1))\n",
    "    "
   ]
  },
  {
   "cell_type": "code",
   "execution_count": 6,
   "id": "ae771cdc",
   "metadata": {},
   "outputs": [],
   "source": [
    "def central_diff(array, index, delta=1):\n",
    "    \"\"\"\n",
    "    Calculate the derivative of array at index by central difference\n",
    "    \"\"\"\n",
    "    return (array[index + 1] - array[index - 1]) / (2 * delta)"
   ]
  },
  {
   "cell_type": "code",
   "execution_count": 7,
   "id": "3596a52d",
   "metadata": {},
   "outputs": [],
   "source": [
    "def forward_diff(array, index, delta=1):\n",
    "    \"\"\"\n",
    "    Calculate the derivative of array at index by forward difference\n",
    "    \"\"\"\n",
    "    return (array[index + 1] - array[index]) / delta"
   ]
  },
  {
   "cell_type": "code",
   "execution_count": 8,
   "id": "6a4b59b6",
   "metadata": {},
   "outputs": [],
   "source": [
    "def backward_diff(array, index, delta=1):\n",
    "    \"\"\"\n",
    "    Calculate the derivative of array at index by backward difference\n",
    "    \"\"\"\n",
    "    return (array[index] - array[index - 1]) / delta"
   ]
  },
  {
   "cell_type": "code",
   "execution_count": 9,
   "id": "55283398",
   "metadata": {},
   "outputs": [],
   "source": [
    "def macrostate_table(N_A, N_B, q_tot, table=True):\n",
    "    \"\"\"\n",
    "    Step through q_A and q_B = q_tot - q_A and use ein_mult \n",
    "      to find Omega_A and Omega_B.\n",
    "    Total multiplicity from: Omega_tot = Omega_A * Omega_B\n",
    "   \n",
    "    Construct a table like in Schroeder with macrostates \n",
    "      and multiplicities for a system of two Einstein solids\n",
    "      and return an array of Omega_tot values.\n",
    "      \n",
    "    If table=False, don't print the table but return the array\n",
    "     of Omega_tot values.\n",
    "    \"\"\"\n",
    "    if table:\n",
    "        print(' q_A  Omega_A  S_A/k  T_A ',\n",
    "              ' q_B  Omega_B  S_B/k T_B ',\n",
    "              'Omega_tot S_tot/k')\n",
    "    tot_microstates = 0\n",
    "    # Collect values in arrays\n",
    "    Omega_A_array = np.zeros(q_tot+1)  \n",
    "    Omega_B_array = np.zeros(q_tot+1)  \n",
    "    Omega_tot_array = np.zeros(q_tot+1)\n",
    "    S_A_array = np.zeros(q_tot+1)  \n",
    "    S_B_array = np.zeros(q_tot+1)  \n",
    "    S_tot_array = np.zeros(q_tot+1)\n",
    "    \n",
    "    for q_A in range(q_tot+1):\n",
    "        Omega_A_array[q_A] = ein_mult(N_A, q_A) \n",
    "        S_A_array[q_A] = ein_entropy_over_k(N_A, q_A) \n",
    "        \n",
    "        q_B = q_tot - q_A\n",
    "        Omega_B_array[q_A] = ein_mult(N_B, q_B) \n",
    "        S_B_array[q_A] = ein_entropy_over_k(N_B, q_B) \n",
    "\n",
    "        Omega_tot_array[q_A] = Omega_A_array[q_A] * Omega_B_array[q_A]\n",
    "        tot_microstates += Omega_tot_array[q_A]\n",
    "        S_tot_array[q_A] = np.log(np.float64(Omega_tot_array[q_A]))\n",
    "        \n",
    "    if table:\n",
    "        eps = 0.1  # in eV\n",
    "        kBoltz = 8.62e-5  # in eV/K\n",
    "        fac = eps / kBoltz  # convert q to K\n",
    "        for q_A in range(q_tot+1):\n",
    "            q_B = q_tot - q_A\n",
    "            T_A = 0\n",
    "            T_B = 0\n",
    "            # Calculate derivatives by central or forward/backward differences\n",
    "            if q_A > 0 and q_A < q_tot:\n",
    "                T_A = fac / central_diff(S_A_array, q_A) \n",
    "                T_B = -fac / central_diff(S_B_array, q_A) \n",
    "            elif q_A == 0:\n",
    "                T_A = fac / forward_diff(S_A_array, q_A) \n",
    "                T_B = -fac / forward_diff(S_B_array, q_A)               \n",
    "            elif q_A == q_tot:\n",
    "                T_A = fac / backward_diff(S_A_array, q_A) \n",
    "                T_B = -fac / backward_diff(S_B_array, q_A) \n",
    "            T_A = round_to_n(T_A, 2)\n",
    "            T_B = round_to_n(T_B, 2)\n",
    "            print (f'{q_A:> 4} {convert_int(Omega_A_array[q_A])}  {S_A_array[q_A]:5.1f} {T_A:4.0f} ',\n",
    "                   f'{q_B:> 4} {convert_int(Omega_B_array[q_A])}  {S_B_array[q_A]:5.1f} {T_B:4.0f}',\n",
    "                   f'{convert_int(Omega_tot_array[q_A])}  {S_tot_array[q_A]:5.1f}')\n",
    "        print(f'Total microstates = {convert_int(tot_microstates)}')\n",
    "\n",
    "        return S_A_array, S_B_array, S_tot_array"
   ]
  },
  {
   "cell_type": "code",
   "execution_count": null,
   "id": "1c280642",
   "metadata": {},
   "outputs": [],
   "source": []
  },
  {
   "cell_type": "markdown",
   "id": "ff6a277a",
   "metadata": {},
   "source": [
    "### Schoeder Table and Figure in chapter 3"
   ]
  },
  {
   "cell_type": "code",
   "execution_count": 10,
   "id": "92654c1b",
   "metadata": {
    "scrolled": false
   },
   "outputs": [
    {
     "name": "stdout",
     "output_type": "stream",
     "text": [
      " q_A  Omega_A  S_A/k  T_A   q_B  Omega_B  S_B/k T_B  Omega_tot S_tot/k\n",
      "   0      1.0    0.0  200   100  2.8e+81  187.5 1100  2.8e+81  187.5\n",
      "   1    300.0    5.7  220    99  9.3e+80  186.4 1100  2.8e+83  192.1\n",
      "   2  45150.0   10.7  240    98  3.1e+80  185.3 1000  1.4e+85  196.0\n",
      "   3  4.5e+06   15.3  260    97  1.0e+80  184.2 1000  4.6e+86  199.6\n",
      "   4  3.4e+08   19.7  280    96  3.3e+79  183.1 1000  1.1e+88  202.8\n",
      "   5  2.1e+10   23.8  290    95  1.1e+79  182.0 1000  2.3e+89  205.7\n",
      "   6  1.1e+12   27.7  300    94  3.5e+78  180.9 1000  3.7e+90  208.5\n",
      "   7  4.7e+13   31.5  310    93  1.1e+78  179.7 1000  5.2e+91  211.2\n",
      "   8  1.8e+15   35.1  320    92  3.6e+77  178.6 1000  6.4e+92  213.7\n",
      "   9  6.1e+16   38.7  330    91  1.1e+77  177.4 1000  6.9e+93  216.1\n",
      "  10  1.9e+18   42.1  340    90  3.6e+76  176.3 1000  6.7e+94  218.3\n",
      "  11  5.3e+19   45.4  350    89  1.1e+76  175.1  990  5.9e+95  220.5\n",
      "  12  1.4e+21   48.7  360    88  3.4e+75  173.9  980  4.7e+96  222.6\n",
      "  13  3.3e+22   51.9  370    87  1.0e+75  172.7  980  3.5e+97  224.6\n",
      "  14  7.4e+23   55.0  380    86  3.2e+74  171.6  970  2.4e+98  226.5\n",
      "  15  1.5e+25   58.0  390    85  9.6e+73  170.4  960  1.5e+99  228.4\n",
      "  16  3.0e+26   61.0  390    84  2.9e+73  169.1  960  8.8e+99  230.1\n",
      "  17  5.7e+27   63.9  400    83  8.5e+72  167.9  950  4.8e+100  231.8\n",
      "  18  1.0e+29   66.8  410    82  2.5e+72  166.7  950  2.5e+101  233.5\n",
      "  19  1.7e+30   69.6  420    81  7.3e+71  165.5  940  1.2e+102  235.1\n",
      "  20  2.7e+31   72.4  420    80  2.1e+71  164.2  930  5.7e+102  236.6\n",
      "  21  4.1e+32   75.1  430    79  6.1e+70  163.0  930  2.5e+103  238.1\n",
      "  22  5.9e+33   77.8  440    78  1.7e+70  161.7  920  1.0e+104  239.5\n",
      "  23  8.3e+34   80.4  440    77  4.9e+69  160.5  910  4.0e+104  240.9\n",
      "  24  1.1e+36   83.0  450    76  1.4e+69  159.2  910  1.5e+105  242.2\n",
      "  25  1.4e+37   85.6  460    75  3.8e+68  157.9  900  5.4e+105  243.5\n",
      "  26  1.8e+38   88.1  460    74  1.0e+68  156.6  890  1.9e+106  244.7\n",
      "  27  2.2e+39   90.6  470    73  2.8e+67  155.3  890  6.1e+106  245.9\n",
      "  28  2.5e+40   93.0  480    72  7.5e+66  154.0  880  1.9e+107  247.0\n",
      "  29  2.9e+41   95.5  480    71  2.0e+66  152.7  870  5.7e+107  248.1\n",
      "  30  3.2e+42   97.9  490    70  5.2e+65  151.3  870  1.7e+108  249.2\n",
      "  31  3.4e+43  100.2  490    69  1.4e+65  150.0  860  4.6e+108  250.2\n",
      "  32  3.5e+44  102.6  500    68  3.5e+64  148.6  850  1.2e+109  251.2\n",
      "  33  3.5e+45  104.9  510    67  8.9e+63  147.3  840  3.1e+109  252.1\n",
      "  34  3.4e+46  107.2  510    66  2.2e+63  145.9  840  7.7e+109  253.0\n",
      "  35  3.3e+47  109.4  520    65  5.6e+62  144.5  830  1.8e+110  253.9\n",
      "  36  3.0e+48  111.6  520    64  1.4e+62  143.1  820  4.2e+110  254.7\n",
      "  37  2.8e+49  113.8  530    63  3.4e+61  141.7  820  9.3e+110  255.5\n",
      "  38  2.5e+50  116.0  530    62  8.1e+60  140.2  810  2.0e+111  256.3\n",
      "  39  2.1e+51  118.2  540    61  1.9e+60  138.8  800  4.1e+111  257.0\n",
      "  40  1.8e+52  120.3  550    60  4.5e+59  137.4  800  8.1e+111  257.7\n",
      "  41  1.5e+53  122.4  550    59  1.0e+59  135.9  790  1.6e+112  258.3\n",
      "  42  1.2e+54  124.5  560    58  2.4e+58  134.4  780  2.9e+112  258.9\n",
      "  43  9.7e+54  126.6  560    57  5.4e+57  132.9  780  5.2e+112  259.5\n",
      "  44  7.5e+55  128.7  570    56  1.2e+57  131.4  770  9.0e+112  260.1\n",
      "  45  5.8e+56  130.7  570    55  2.6e+56  129.9  760  1.5e+113  260.6\n",
      "  46  4.3e+57  132.7  580    54  5.7e+55  128.4  750  2.5e+113  261.1\n",
      "  47  3.2e+58  134.7  580    53  1.2e+55  126.8  750  3.9e+113  261.5\n",
      "  48  2.3e+59  136.7  590    52  2.6e+54  125.3  740  5.9e+113  262.0\n",
      "  49  1.6e+60  138.6  590    51  5.3e+53  123.7  730  8.6e+113  262.3\n",
      "  50  1.1e+61  140.6  600    50  1.1e+53  122.1  730  1.2e+114  262.7\n",
      "  51  7.8e+61  142.5  600    49  2.2e+52  120.5  720  1.7e+114  263.0\n",
      "  52  5.3e+62  144.4  610    48  4.3e+51  118.9  710  2.3e+114  263.3\n",
      "  53  3.5e+63  146.3  620    47  8.3e+50  117.2  700  2.9e+114  263.6\n",
      "  54  2.3e+64  148.2  620    46  1.6e+50  115.6  700  3.6e+114  263.8\n",
      "  55  1.5e+65  150.1  630    45  3.0e+49  113.9  690  4.4e+114  264.0\n",
      "  56  9.3e+65  151.9  630    44  5.5e+48  112.2  680  5.1e+114  264.1\n",
      "  57  5.8e+66  153.7  640    43  1.0e+48  110.5  680  5.8e+114  264.3\n",
      "  58  3.6e+67  155.6  640    42  1.8e+47  108.8  670  6.4e+114  264.3\n",
      "  59  2.2e+68  157.4  650    41  3.1e+46  107.0  660  6.7e+114  264.4\n",
      "  60  1.3e+69  159.1  650    40  5.3e+45  105.3  650  6.9e+114  264.4\n",
      "  61  7.7e+69  160.9  660    39  8.8e+44  103.5  650  6.8e+114  264.4\n",
      "  62  4.5e+70  162.7  660    38  1.4e+44  101.7  640  6.5e+114  264.4\n",
      "  63  2.6e+71  164.4  670    37  2.3e+43   99.9  630  6.0e+114  264.3\n",
      "  64  1.5e+72  166.2  670    36  3.6e+42   98.0  620  5.3e+114  264.2\n",
      "  65  8.2e+72  167.9  680    35  5.6e+41   96.1  610  4.5e+114  264.0\n",
      "  66  4.5e+73  169.6  680    34  8.3e+40   94.2  610  3.8e+114  263.8\n",
      "  67  2.5e+74  171.3  690    33  1.2e+40   92.3  600  3.0e+114  263.6\n",
      "  68  1.3e+75  173.0  690    32  1.7e+39   90.3  590  2.3e+114  263.3\n",
      "  69  7.1e+75  174.7  700    31  2.4e+38   88.4  580  1.7e+114  263.0\n",
      "  70  3.7e+76  176.3  700    30  3.2e+37   86.4  570  1.2e+114  262.7\n",
      "  71  2.0e+77  178.0  710    29  4.2e+36   84.3  570  8.2e+113  262.3\n",
      "  72  1.0e+78  179.6  710    28  5.4e+35   82.3  560  5.4e+113  261.9\n",
      "  73  5.1e+78  181.2  710    27  6.6e+34   80.2  550  3.4e+113  261.4\n",
      "  74  2.6e+79  182.9  720    26  7.9e+33   78.1  540  2.0e+113  260.9\n",
      "  75  1.3e+80  184.5  720    25  9.2e+32   75.9  530  1.2e+113  260.4\n",
      "  76  6.4e+80  186.1  730    24  1.0e+32   73.7  520  6.5e+112  259.8\n",
      "  77  3.1e+81  187.6  730    23  1.1e+31   71.5  520  3.4e+112  259.1\n",
      "  78  1.5e+82  189.2  740    22  1.1e+30   69.2  510  1.7e+112  258.4\n",
      "  79  7.2e+82  190.8  740    21  1.1e+29   66.9  500  8.1e+111  257.7\n",
      "  80  3.4e+83  192.3  750    20  1.1e+28   64.6  490  3.7e+111  256.9\n",
      "  81  1.6e+84  193.9  750    19  9.9e+26   62.2  480  1.6e+111  256.0\n",
      "  82  7.4e+84  195.4  760    18  8.6e+25   59.7  470  6.4e+110  255.1\n",
      "  83  3.4e+85  196.9  760    17  7.1e+24   57.2  460  2.4e+110  254.2\n",
      "  84  1.6e+86  198.5  770    16  5.6e+23   54.7  450  8.8e+109  253.2\n",
      "  85  7.0e+86  200.0  770    15  4.2e+22   52.1  440  2.9e+109  252.1\n",
      "  86  3.1e+87  201.5  780    14  2.9e+21   49.4  430  9.2e+108  250.9\n",
      "  87  1.4e+88  203.0  780    13  1.9e+20   46.7  420  2.7e+108  249.7\n",
      "  88  6.1e+88  204.4  790    12  1.2e+19   43.9  410  7.3e+107  248.4\n",
      "  89  2.7e+89  205.9  790    11  6.7e+17   41.0  400  1.8e+107  247.0\n",
      "  90  1.2e+90  207.4  790    10  3.5e+16   38.1  390  4.1e+106  245.5\n",
      "  91  5.0e+90  208.8  800     9  1.7e+15   35.1  380  8.4e+105  243.9\n",
      "  92  2.1e+91  210.3  800     8  7.3e+13   31.9  360  1.5e+105  242.2\n",
      "  93  8.9e+91  211.7  810     7  2.8e+12   28.7  350  2.5e+104  240.4\n",
      "  94  3.7e+92  213.1  810     6  9.6e+10   25.3  340  3.6e+103  238.4\n",
      "  95  1.5e+93  214.6  820     5  2.8e+09   21.8  320  4.3e+102  236.3\n",
      "  96  6.3e+93  216.0  820     4  6.9e+07   18.0  300  4.4e+101  234.0\n",
      "  97  2.6e+94  217.4  830     3  1.4e+06   14.1  290  3.5e+100  231.5\n",
      "  98  1.0e+95  218.8  830     2  20100.0    9.9  260  2.1e+99  228.7\n",
      "  99  4.2e+95  220.2  840     1    200.0    5.3  230  8.4e+97  225.5\n",
      " 100  1.7e+96  221.6  840     0      1.0    0.0  220  1.7e+96  221.6\n",
      "Total microstates =  9.3e+115\n"
     ]
    }
   ],
   "source": [
    "S_A_array, S_B_array, S_tot_array = macrostate_table(300, 200, 100)"
   ]
  },
  {
   "cell_type": "code",
   "execution_count": 11,
   "id": "06c013f2",
   "metadata": {},
   "outputs": [
    {
     "data": {
      "image/png": "[encoded data removed]",
      "text/plain": [
       "<Figure size 640x480 with 1 Axes>"
      ]
     },
     "metadata": {},
     "output_type": "display_data"
    }
   ],
   "source": [
    "fig, ax0 = plt.subplots(1, 1)\n",
    "q_array = np.arange(len(S_tot_array))\n",
    "ax0.plot(q_array, S_A_array, label=r'$S_A$', color='blue')\n",
    "ax0.plot(q_array, S_B_array, label=r'$S_B$', color='green')\n",
    "ax0.plot(q_array, S_tot_array, label=r'$S_{\\rm tot}$', color='red')\n",
    "\n",
    "ax0.plot(q_array[10:20], S_A_array[10:20], color='blue', lw=4)\n",
    "ax0.plot(q_array[10:20], S_B_array[10:20], color='green', lw=4)\n",
    "\n",
    "ax0.plot(q_array[55:65], S_A_array[55:65], color='blue', lw=4)\n",
    "ax0.plot(q_array[55:65], S_B_array[55:65], color='green', lw=4)\n",
    "ax0.plot(q_array[55:65], S_tot_array[55:65], color='red', lw=4)\n",
    "\n",
    "ax0.set_xlabel(r'$q_A$')\n",
    "ax0.set_ylabel(r'Entropy (units of $k$)')\n",
    "ax0.set_xlim(q_array[0], q_array[-1])\n",
    "fig.legend();"
   ]
  },
  {
   "cell_type": "code",
   "execution_count": null,
   "id": "ccc145c6",
   "metadata": {},
   "outputs": [],
   "source": []
  }
 ],
 "metadata": {
  "kernelspec": {
   "display_name": "Python 3 (ipykernel)",
   "language": "python",
   "name": "python3"
  },
  "language_info": {
   "codemirror_mode": {
    "name": "ipython",
    "version": 3
   },
   "file_extension": ".py",
   "mimetype": "text/x-python",
   "name": "python",
   "nbconvert_exporter": "python",
   "pygments_lexer": "ipython3",
   "version": "3.9.18"
  }
 },
 "nbformat": 4,
 "nbformat_minor": 5
}
