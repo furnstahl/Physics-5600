{
 "cells": [
  {
   "cell_type": "markdown",
   "id": "194250d0",
   "metadata": {},
   "source": [
    "# Generating tables and figures in Schroeder 3.3 Paramagnetism\n",
    "\n"
   ]
  },
  {
   "cell_type": "markdown",
   "id": "70df13c9",
   "metadata": {},
   "source": [
    "We have a two-state paramagnet with $N$ dipoles. The number of dipoles pointing up is $N_\\uparrow$.\n",
    "\n",
    "The total number of states is $2^N$ and the multiplicity of $N_\\uparrow$ (i.e., the number of microstates in this macrostate) is\n",
    "$$\n",
    " \\Omega(N,N_\\uparrow) = \\frac{N!}{N_\\uparrow! (N-N_\\uparrow)!} = \\frac{N!}{N_\\uparrow! (N-N_\\uparrow)!} = {N\\choose N_\\uparrow} \\,.\n",
    "$$"
   ]
  },
  {
   "cell_type": "code",
   "execution_count": 1,
   "id": "4030f05a",
   "metadata": {},
   "outputs": [],
   "source": [
    "import numpy as np\n",
    "import math\n",
    "from scipy.special import comb\n",
    "import matplotlib.pyplot as plt"
   ]
  },
  {
   "cell_type": "code",
   "execution_count": 2,
   "id": "04e84d0e",
   "metadata": {},
   "outputs": [],
   "source": [
    "def para_energy_over_muB(N, Nup):\n",
    "    \"\"\"\n",
    "    Calculate the energy of a 2-state paramagnet\n",
    "    \"\"\"\n",
    "    return N - 2 * Nup"
   ]
  },
  {
   "cell_type": "code",
   "execution_count": 3,
   "id": "d7aef19f",
   "metadata": {},
   "outputs": [],
   "source": [
    "def para_magnetization_over_mu(N, Nup):\n",
    "    \"\"\"\n",
    "    Calculate the magnetization of a 2-state paramagnet\n",
    "    \"\"\"\n",
    "    Ndown = N - Nup\n",
    "    return (Nup - Ndown) / N"
   ]
  },
  {
   "cell_type": "code",
   "execution_count": 4,
   "id": "792d2586",
   "metadata": {},
   "outputs": [],
   "source": [
    "def para_mult(N, Nup):\n",
    "    \"\"\"\n",
    "    Calculate the 2-state paramagnet multiplicity and return it as\n",
    "     an integer.\n",
    "    \"\"\"\n",
    "    return int(comb(N, Nup))  "
   ]
  },
  {
   "cell_type": "code",
   "execution_count": 5,
   "id": "a138491f",
   "metadata": {},
   "outputs": [],
   "source": [
    "def para_entropy_over_k(N, Nup):\n",
    "    \"\"\"\n",
    "    Calculate the 2-state paramagnet entropy divided by k (so just the\n",
    "      ln of the multiplicity).\n",
    "    \"\"\"\n",
    "    return np.log(np.float64(para_mult(N,Nup)))  "
   ]
  },
  {
   "cell_type": "code",
   "execution_count": 6,
   "id": "d2fc2d89",
   "metadata": {},
   "outputs": [],
   "source": [
    "def convert_int(my_int, large=10**6):\n",
    "    \"\"\"\n",
    "    If my_int is larger than large, return an exponential form.\n",
    "      The right justification for ints should be log10(large) + 1.\n",
    "    \"\"\"\n",
    "    if my_int > large:\n",
    "        return \"{: .1e}\".format(my_int)\n",
    "    else:\n",
    "        return \"{:>8}\".format(my_int)"
   ]
  },
  {
   "cell_type": "code",
   "execution_count": 7,
   "id": "e8798151",
   "metadata": {},
   "outputs": [],
   "source": [
    "def round_to_n(num, sigfigs):\n",
    "    \"\"\"\n",
    "    Round off num to the specifie number of sigfigs (significant figures)\n",
    "    \"\"\"\n",
    "    if num == 0:\n",
    "        return num\n",
    "    else:\n",
    "        return round(num, -int(math.floor(math.log10(abs(num)))) + (sigfigs - 1))\n",
    "    "
   ]
  },
  {
   "cell_type": "code",
   "execution_count": 8,
   "id": "09b92b1e",
   "metadata": {},
   "outputs": [],
   "source": [
    "def central_diff(array1, array2, index):\n",
    "    \"\"\"\n",
    "    Calculate the derivative of array at index by central difference\n",
    "    \"\"\"\n",
    "    return (array1[index + 1] - array1[index - 1]) / \\\n",
    "           (array2[index + 1] - array2[index - 1])"
   ]
  },
  {
   "cell_type": "code",
   "execution_count": 9,
   "id": "19b38ef9",
   "metadata": {},
   "outputs": [],
   "source": [
    "def forward_diff(array1, array2, index):\n",
    "    \"\"\"\n",
    "    Calculate the derivative of array at index by forward difference\n",
    "    \"\"\"\n",
    "    return (array1[index + 1] - array1[index]) / \\\n",
    "           (array2[index + 1] - array2[index])"
   ]
  },
  {
   "cell_type": "code",
   "execution_count": 10,
   "id": "c5b19744",
   "metadata": {},
   "outputs": [],
   "source": [
    "def backward_diff(array1, array2, index):\n",
    "    \"\"\"\n",
    "    Calculate the derivative of array at index by backward difference\n",
    "    \"\"\"\n",
    "    return (array1[index] - array1[index - 1]) / \\\n",
    "           (array2[index] - array2[index - 1])"
   ]
  },
  {
   "cell_type": "code",
   "execution_count": 11,
   "id": "05092d0a",
   "metadata": {},
   "outputs": [],
   "source": [
    "def properties_table(N, table=True):\n",
    "    \"\"\"\n",
    "    Step through Nup from 0 to N and use para_mult to find \n",
    "      the multiplicity Omega. \n",
    "   \n",
    "    Construct a table like in Schroeder 3.2.\n",
    "      \n",
    "    If table=False, don't print the table but return the arrays.\n",
    "    \"\"\"\n",
    "    if table:\n",
    "        print(' Nup U/muB  M/Nmu     Omega   S/k    kT/muB   C/Nk ')\n",
    "\n",
    "    # Collect values in arrays\n",
    "    Nup_array = np.zeros(N+1, dtype=int) \n",
    "    U_over_muB_array = np.zeros(N+1, dtype=int)\n",
    "    M_over_mu_array = np.zeros(N+1)\n",
    "    Omega_array = np.zeros(N+1)  \n",
    "    S_over_k_array = np.zeros(N+1)\n",
    "    kT_over_muB_array = np.zeros(N+1)\n",
    "    C_over_Nk_array = np.zeros(N+1)\n",
    "    \n",
    "    for Nup in range(N+1):\n",
    "        Nup_array[Nup] = int(Nup)\n",
    "        U_over_muB_array[Nup] = int(para_energy_over_muB(N, Nup))\n",
    "        M_over_mu_array[Nup] = para_magnetization_over_mu(N, Nup)\n",
    "        Omega_array[Nup] = para_mult(N, Nup) \n",
    "        S_over_k_array[Nup] = para_entropy_over_k(N, Nup) \n",
    "        \n",
    "    # Find the temperature by central or forward/backward differences\n",
    "    for Nup in range(N+1):\n",
    "        if Nup > 0 and Nup < N:\n",
    "            T = 1 / central_diff(S_over_k_array, U_over_muB_array, Nup) \n",
    "        elif Nup == 0:\n",
    "            T = 1 / forward_diff(S_over_k_array, U_over_muB_array, Nup)\n",
    "        elif Nup == N:\n",
    "            T = 1 / backward_diff(S_over_k_array, U_over_muB_array, Nup)\n",
    "        if T == np.inf or T == -np.inf:\n",
    "            True\n",
    "            #T = 0\n",
    "        else:\n",
    "            #T = T\n",
    "            T = round_to_n(T, 2)\n",
    "        kT_over_muB_array[Nup] = T\n",
    "\n",
    "    # Find C_over_Nk by central or forward/backward differences\n",
    "    for Nup in range(N+1):\n",
    "        if Nup > 0 and Nup < N:\n",
    "            CB = central_diff(U_over_muB_array, kT_over_muB_array, Nup) \n",
    "        elif Nup == 0:\n",
    "            CB = 0\n",
    "        elif Nup == N:\n",
    "            CB = 0\n",
    "        C_over_Nk_array[Nup] = CB / N\n",
    "        \n",
    "    if table:\n",
    "        for Ndown in range(N+1):\n",
    "            Nup = N - Ndown\n",
    "            print (f'{Nup_array[Nup]:> 4} ',\n",
    "                   f'{U_over_muB_array[Nup]:> 4} ',\n",
    "                   f'{M_over_mu_array[Nup]: .2f} ',\n",
    "                   f'{convert_int(Omega_array[Nup])}',\n",
    "                   f' {S_over_k_array[Nup]:5.2f} ',\n",
    "                   f' {kT_over_muB_array[Nup]: 4.2f} ', \\\n",
    "                   f' {C_over_Nk_array[Nup]: 4.3f} ' \\\n",
    "                  )\n",
    "\n",
    "    return Nup_array, U_over_muB_array, M_over_mu_array, \\\n",
    "               Omega_array, S_over_k_array, kT_over_muB_array, \\\n",
    "               C_over_Nk_array"
   ]
  },
  {
   "cell_type": "markdown",
   "id": "5ce48ee5",
   "metadata": {},
   "source": [
    "## Table 3.2"
   ]
  },
  {
   "cell_type": "code",
   "execution_count": 12,
   "id": "a4c57d14",
   "metadata": {
    "scrolled": false
   },
   "outputs": [
    {
     "name": "stdout",
     "output_type": "stream",
     "text": [
      " Nup U/muB  M/Nmu     Omega   S/k    kT/muB   C/Nk \n",
      " 100  -100   1.00       1.0   0.00    0.43    0.000 \n",
      "  99   -98   0.98     100.0   4.61    0.47    0.364 \n",
      "  98   -96   0.96    4950.0   8.51    0.54    0.308 \n",
      "  97   -94   0.94  161700.0  11.99    0.60    0.364 \n",
      "  96   -92   0.92   3.9e+06  15.18    0.65    0.400 \n",
      "  95   -90   0.90   7.5e+07  18.14    0.70    0.400 \n",
      "  94   -88   0.88   1.2e+09  20.90    0.75    0.444 \n",
      "  93   -86   0.86   1.6e+10  23.50    0.79    0.444 \n",
      "  92   -84   0.84   1.9e+11  25.95    0.84    0.444 \n",
      "  91   -82   0.82   1.9e+12  28.27    0.88    0.444 \n",
      "  90   -80   0.80   1.7e+13  30.48    0.93    0.444 \n",
      "  89   -78   0.78   1.4e+14  32.58    0.97    0.571 \n",
      "  88   -76   0.76   1.1e+15  34.59    1.00    0.308 \n",
      "  87   -74   0.74   7.1e+15  36.50    1.10    0.400 \n",
      "  86   -72   0.72   4.4e+16  38.33    1.10    0.400 \n",
      "  85   -70   0.70   2.5e+17  40.07    1.20    0.400 \n",
      "  84   -68   0.68   1.3e+18  41.74    1.20    0.400 \n",
      "  83   -66   0.66   6.7e+18  43.34    1.30    0.400 \n",
      "  82   -64   0.64   3.1e+19  44.87    1.30    0.400 \n",
      "  81   -62   0.62   1.3e+20  46.33    1.40    0.200 \n",
      "  80   -60   0.60   5.4e+20  47.73    1.50    0.400 \n",
      "  79   -58   0.58   2.0e+21  49.07    1.50    0.400 \n",
      "  78   -56   0.56   7.3e+21  50.35    1.60    0.200 \n",
      "  77   -54   0.54   2.5e+22  51.57    1.70    0.200 \n",
      "  76   -52   0.52   8.0e+22  52.73    1.80    0.400 \n",
      "  75   -50   0.50   2.4e+23  53.85    1.80    0.400 \n",
      "  74   -48   0.48   7.0e+23  54.90    1.90    0.200 \n",
      "  73   -46   0.46   1.9e+24  55.91    2.00    0.200 \n",
      "  72   -44   0.44   5.0e+24  56.87    2.10    0.133 \n",
      "  71   -42   0.42   1.2e+25  57.78    2.30    0.133 \n",
      "  70   -40   0.40   2.9e+25  58.64    2.40    0.200 \n",
      "  69   -38   0.38   6.6e+25  59.46    2.50    0.133 \n",
      "  68   -36   0.36   1.4e+26  60.22    2.70    0.100 \n",
      "  67   -34   0.34   2.9e+26  60.95    2.90    0.133 \n",
      "  66   -32   0.32   5.8e+26  61.63    3.00    0.100 \n",
      "  65   -30   0.30   1.1e+27  62.26    3.30    0.080 \n",
      "  64   -28   0.28   2.0e+27  62.85    3.50    0.080 \n",
      "  63   -26   0.26   3.4e+27  63.40    3.80    0.067 \n",
      "  62   -24   0.24   5.7e+27  63.90    4.10    0.057 \n",
      "  61   -22   0.22   9.0e+27  64.37    4.50    0.044 \n",
      "  60   -20   0.20   1.4e+28  64.79    5.00    0.036 \n",
      "  59   -18   0.18   2.0e+28  65.17    5.60    0.031 \n",
      "  58   -16   0.16   2.8e+28  65.51    6.30    0.025 \n",
      "  57   -14   0.14   3.8e+28  65.81    7.20    0.019 \n",
      "  56   -12   0.12   4.9e+28  66.07    8.40    0.014 \n",
      "  55   -10   0.10   6.1e+28  66.29    10.00    0.009 \n",
      "  54    -8   0.08   7.3e+28  66.47    13.00    0.006 \n",
      "  53    -6   0.06   8.4e+28  66.61    17.00    0.003 \n",
      "  52    -4   0.04   9.3e+28  66.70    25.00    0.001 \n",
      "  51    -2   0.02   9.9e+28  66.76    50.00   -0.000 \n",
      "  50     0   0.00   1.0e+29  66.78   -inf   -0.000 \n",
      "  49     2  -0.02   9.9e+28  66.76   -50.00    0.000 \n",
      "  48     4  -0.04   9.3e+28  66.70   -25.00    0.001 \n",
      "  47     6  -0.06   8.4e+28  66.61   -17.00    0.003 \n",
      "  46     8  -0.08   7.3e+28  66.47   -13.00    0.006 \n",
      "  45    10  -0.10   6.1e+28  66.29   -10.00    0.009 \n",
      "  44    12  -0.12   4.9e+28  66.07   -8.40    0.014 \n",
      "  43    14  -0.14   3.8e+28  65.81   -7.20    0.019 \n",
      "  42    16  -0.16   2.8e+28  65.51   -6.30    0.025 \n",
      "  41    18  -0.18   2.0e+28  65.17   -5.60    0.031 \n",
      "  40    20  -0.20   1.4e+28  64.79   -5.00    0.036 \n",
      "  39    22  -0.22   9.0e+27  64.37   -4.50    0.044 \n",
      "  38    24  -0.24   5.7e+27  63.90   -4.10    0.057 \n",
      "  37    26  -0.26   3.4e+27  63.40   -3.80    0.067 \n",
      "  36    28  -0.28   2.0e+27  62.85   -3.50    0.080 \n",
      "  35    30  -0.30   1.1e+27  62.26   -3.30    0.080 \n",
      "  34    32  -0.32   5.8e+26  61.63   -3.00    0.100 \n",
      "  33    34  -0.34   2.9e+26  60.95   -2.90    0.133 \n",
      "  32    36  -0.36   1.4e+26  60.22   -2.70    0.100 \n",
      "  31    38  -0.38   6.6e+25  59.46   -2.50    0.133 \n",
      "  30    40  -0.40   2.9e+25  58.64   -2.40    0.200 \n",
      "  29    42  -0.42   1.2e+25  57.78   -2.30    0.133 \n",
      "  28    44  -0.44   5.0e+24  56.87   -2.10    0.133 \n",
      "  27    46  -0.46   1.9e+24  55.91   -2.00    0.200 \n",
      "  26    48  -0.48   7.0e+23  54.90   -1.90    0.200 \n",
      "  25    50  -0.50   2.4e+23  53.85   -1.80    0.400 \n",
      "  24    52  -0.52   8.0e+22  52.73   -1.80    0.400 \n",
      "  23    54  -0.54   2.5e+22  51.57   -1.70    0.200 \n",
      "  22    56  -0.56   7.3e+21  50.35   -1.60    0.200 \n",
      "  21    58  -0.58   2.0e+21  49.07   -1.50    0.400 \n",
      "  20    60  -0.60   5.4e+20  47.73   -1.50    0.400 \n",
      "  19    62  -0.62   1.3e+20  46.33   -1.40    0.200 \n",
      "  18    64  -0.64   3.1e+19  44.87   -1.30    0.400 \n",
      "  17    66  -0.66   6.7e+18  43.34   -1.30    0.400 \n",
      "  16    68  -0.68   1.3e+18  41.74   -1.20    0.400 \n",
      "  15    70  -0.70   2.5e+17  40.07   -1.20    0.400 \n",
      "  14    72  -0.72   4.4e+16  38.33   -1.10    0.400 \n",
      "  13    74  -0.74   7.1e+15  36.50   -1.10    0.400 \n",
      "  12    76  -0.76   1.1e+15  34.59   -1.00    0.308 \n",
      "  11    78  -0.78   1.4e+14  32.58   -0.97    0.571 \n",
      "  10    80  -0.80   1.7e+13  30.48   -0.93    0.444 \n",
      "   9    82  -0.82   1.9e+12  28.27   -0.88    0.444 \n",
      "   8    84  -0.84   1.9e+11  25.95   -0.84    0.444 \n",
      "   7    86  -0.86   1.6e+10  23.50   -0.79    0.444 \n",
      "   6    88  -0.88   1.2e+09  20.90   -0.75    0.444 \n",
      "   5    90  -0.90   7.5e+07  18.14   -0.70    0.400 \n",
      "   4    92  -0.92   3.9e+06  15.18   -0.65    0.400 \n",
      "   3    94  -0.94  161700.0  11.99   -0.60    0.364 \n",
      "   2    96  -0.96    4950.0   8.51   -0.54    0.308 \n",
      "   1    98  -0.98     100.0   4.61   -0.47    0.364 \n",
      "   0   100  -1.00       1.0   0.00   -0.43    0.000 \n"
     ]
    },
    {
     "name": "stderr",
     "output_type": "stream",
     "text": [
      "/var/folders/1s/3wbqg65x5k79l5ww8fg25yvh0000gn/T/ipykernel_41947/1538554006.py:32: RuntimeWarning: divide by zero encountered in scalar divide\n",
      "  T = 1 / central_diff(S_over_k_array, U_over_muB_array, Nup)\n"
     ]
    }
   ],
   "source": [
    "N_para = 100\n",
    "Nup_array, U_over_muB_array, M_over_mu_array, \\\n",
    "Omega_array, S_over_k_array, kT_over_muB_array, \\\n",
    "C_over_Nk_array = properties_table(N_para)"
   ]
  },
  {
   "cell_type": "markdown",
   "id": "3f839e35",
   "metadata": {},
   "source": [
    "## Figures 3.8, 3.9, and 3.10"
   ]
  },
  {
   "cell_type": "markdown",
   "id": "ca10a8de",
   "metadata": {},
   "source": [
    "We'll add analytic solutions to the numerical ones."
   ]
  },
  {
   "cell_type": "code",
   "execution_count": 13,
   "id": "2d058dbe",
   "metadata": {},
   "outputs": [],
   "source": [
    "def kT_over_muB_exact(U_over_muB, N):\n",
    "    \"\"\"\n",
    "    Use equation 3.30\n",
    "    \"\"\"\n",
    "    return 2 / np.log( (N - U_over_muB) / (N + U_over_muB))"
   ]
  },
  {
   "cell_type": "code",
   "execution_count": 14,
   "id": "682d6650",
   "metadata": {},
   "outputs": [],
   "source": [
    "def M_over_muN_exact(kT_over_muB):\n",
    "    \"\"\"\n",
    "    Use equation 3.32\n",
    "    \"\"\"\n",
    "    return np.tanh(1 / kT_over_muB)"
   ]
  },
  {
   "cell_type": "code",
   "execution_count": 15,
   "id": "1b39ef9f",
   "metadata": {},
   "outputs": [],
   "source": [
    "def CB_over_Nk_exact(kT_over_muB):\n",
    "    \"\"\"\n",
    "    Use equation 3.32\n",
    "    \"\"\"\n",
    "    return (1 / kT_over_muB)**2 / np.cosh(1 / kT_over_muB)**2"
   ]
  },
  {
   "cell_type": "code",
   "execution_count": 16,
   "id": "5f30fc5e",
   "metadata": {},
   "outputs": [
    {
     "name": "stderr",
     "output_type": "stream",
     "text": [
      "/var/folders/1s/3wbqg65x5k79l5ww8fg25yvh0000gn/T/ipykernel_41947/3294786009.py:5: RuntimeWarning: divide by zero encountered in divide\n",
      "  return 2 / np.log( (N - U_over_muB) / (N + U_over_muB))\n"
     ]
    },
    {
     "data": {
      "image/png": "[encoded data removed]",
      "text/plain": [
       "<Figure size 640x480 with 4 Axes>"
      ]
     },
     "metadata": {},
     "output_type": "display_data"
    }
   ],
   "source": [
    "fig, axs = plt.subplots(2, 2)\n",
    "\n",
    "axs[0,0].plot(U_over_muB_array, S_over_k_array, color='blue')\n",
    "axs[0,0].set_xlabel(r'$U/\\mu B$')\n",
    "axs[0,0].set_ylabel(r'$S/k$')\n",
    "axs[0,0].set_xlim(U_over_muB_array[-1], U_over_muB_array[0])\n",
    "axs[0,0].text(0.5, 0.2, 'Figure 3.8', horizontalalignment='center',\n",
    "     verticalalignment='center', transform=axs[0,0].transAxes)\n",
    "\n",
    "U_over_muBN_exact1 = np.arange(-1, 0, .01)\n",
    "kT_over_muB_exact_array1 = kT_over_muB_exact(N_para*U_over_muBN_exact1, N_para)\n",
    "U_over_muBN_exact2 = np.arange(0, 1, .01)\n",
    "kT_over_muB_exact_array2 = kT_over_muB_exact(N_para*U_over_muBN_exact2, N_para)\n",
    "axs[0,1].plot(U_over_muB_array/N_para, kT_over_muB_array, color='blue')\n",
    "axs[0,1].plot(U_over_muBN_exact1, kT_over_muB_exact_array1, color='red', ls=':', lw=3)\n",
    "axs[0,1].plot(U_over_muBN_exact2, kT_over_muB_exact_array2, color='red', ls=':', lw=3)\n",
    "axs[0,1].set_xlabel(r'$U/N \\mu B$')\n",
    "axs[0,1].set_ylabel(r'$kT / \\mu B$')\n",
    "axs[0,1].set_xlim(-1, 1)\n",
    "axs[0,1].set_ylim(-20, 20)\n",
    "axs[0,1].text(0.75, 0.8, 'Figure 3.9', horizontalalignment='center',\n",
    "     verticalalignment='center', transform=axs[0,1].transAxes)\n",
    "\n",
    "kT_over_muB_CB_array = np.arange(0.01, 8, .01)\n",
    "CB_over_Nk_exact_array = CB_over_Nk_exact(kT_over_muB_CB_array)\n",
    "axs[1,0].plot(kT_over_muB_array, C_over_Nk_array, color='blue')\n",
    "axs[1,0].plot(kT_over_muB_CB_array, CB_over_Nk_exact_array, color='red', ls=':', lw=3)\n",
    "axs[1,0].set_xlabel(r'$kT / \\mu B$')\n",
    "axs[1,0].set_ylabel(r'$C/N k$')\n",
    "axs[1,0].set_xlim(0, 7.2)\n",
    "axs[1,0].set_ylim(0, 0.5)\n",
    "axs[1,0].text(0.75, 0.8, 'Figure 3.10a', horizontalalignment='center',\n",
    "     verticalalignment='center', transform=axs[1,0].transAxes)\n",
    "\n",
    "kT_over_muB_M_array1 = np.arange(-12, 0, .01)\n",
    "M_over_muN_exact_array1 = M_over_muN_exact(kT_over_muB_M_array1)\n",
    "kT_over_muB_M_array2 = np.arange(0, 12, .01)\n",
    "M_over_muN_exact_array2 = M_over_muN_exact(kT_over_muB_M_array2)\n",
    "axs[1,1].plot(kT_over_muB_array, M_over_mu_array, color='blue')\n",
    "axs[1,1].plot(kT_over_muB_M_array1, M_over_muN_exact_array1, color='red', ls=':', lw=3)\n",
    "axs[1,1].plot(kT_over_muB_M_array2, M_over_muN_exact_array2, color='red', ls=':', lw=3)\n",
    "axs[1,1].set_xlabel(r'$kT / \\mu B$')\n",
    "axs[1,1].set_ylabel(r'$M/N \\mu$')\n",
    "axs[1,1].set_xlim(-10, 10)\n",
    "axs[1,1].set_ylim(-1, 1)\n",
    "axs[1,1].text(0.25, 0.8, 'Figure 3.10a', horizontalalignment='center',\n",
    "     verticalalignment='center', transform=axs[1,1].transAxes)\n",
    "\n",
    "\n",
    "fig.tight_layout();"
   ]
  },
  {
   "cell_type": "code",
   "execution_count": null,
   "id": "035904d8",
   "metadata": {},
   "outputs": [],
   "source": []
  },
  {
   "cell_type": "code",
   "execution_count": null,
   "id": "c4dcb15a",
   "metadata": {},
   "outputs": [],
   "source": []
  }
 ],
 "metadata": {
  "kernelspec": {
   "display_name": "Python 3 (ipykernel)",
   "language": "python",
   "name": "python3"
  },
  "language_info": {
   "codemirror_mode": {
    "name": "ipython",
    "version": 3
   },
   "file_extension": ".py",
   "mimetype": "text/x-python",
   "name": "python",
   "nbconvert_exporter": "python",
   "pygments_lexer": "ipython3",
   "version": "3.9.18"
  }
 },
 "nbformat": 4,
 "nbformat_minor": 5
}
