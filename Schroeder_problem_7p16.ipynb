{
 "cells": [
  {
   "cell_type": "markdown",
   "id": "2db00bf7",
   "metadata": {},
   "source": [
    "# Schroeder Problem 7.16"
   ]
  },
  {
   "cell_type": "code",
   "execution_count": null,
   "id": "cc0067b2",
   "metadata": {},
   "outputs": [],
   "source": [
    "import numpy as np\n",
    "import matplotlib.pyplot as plt"
   ]
  },
  {
   "cell_type": "code",
   "execution_count": null,
   "id": "688db8f7",
   "metadata": {},
   "outputs": [],
   "source": [
    "occupations = np.array((1, 1, 1, 10/11, 10/11, 9/11, 8/11, 7/11, 6/11, \\\n",
    "                        5/11, 4/11, 3/11, 2/11, 1/11, 1/11, 0, 0, 0, 0))\n",
    "eps_pts = np.arange(1, len(occupations)+1, 1)"
   ]
  },
  {
   "cell_type": "code",
   "execution_count": null,
   "id": "0005101c",
   "metadata": {},
   "outputs": [],
   "source": [
    "def nbar_Fermi_Dirac(eps, mu, kT):\n",
    "    \"\"\"\n",
    "    Fermi-Dirac average occupation number\n",
    "    \"\"\"\n",
    "    return 1 / (np.exp( (eps - mu) / kT ) + 1)"
   ]
  },
  {
   "cell_type": "code",
   "execution_count": null,
   "id": "06de9f0f",
   "metadata": {},
   "outputs": [],
   "source": [
    "kT = 0.2001 # 5 # 2  # in units of eta\n",
    "mu = 9.5  # in units of eta\n",
    "eps_full = np.arange(0, 20, 0.01)\n",
    "delta_kT = 0.2\n",
    "\n",
    "fig = plt.figure(figsize=(6,5))\n",
    "ax = fig.add_subplot(1,1,1)\n",
    "\n",
    "ax.axhline(0.5, alpha=0.2)\n",
    "\n",
    "ax.plot(eps_pts, occupations, 'o', color='blue', )\n",
    "ax.plot(eps_full, nbar_Fermi_Dirac(eps_full, mu, kT), label=rf'$kT = {kT:.1f}$', color='green')\n",
    "ax.plot(eps_full, nbar_Fermi_Dirac(eps_full, mu, kT-delta_kT), ls=':', label=rf'$kT = {kT-delta_kT:.1f}$', color='red')\n",
    "ax.plot(eps_full, nbar_Fermi_Dirac(eps_full, mu, kT+delta_kT), ls='--', label=rf'$kT = {kT+delta_kT:.1f}$', color='red')\n",
    "\n",
    "ax.set_xlabel(r'$\\epsilon$')\n",
    "ax.set_ylabel(r'$\\overline{n}(\\epsilon)$')\n",
    "\n",
    "ax.set_xticks(np.arange(0, 20.1, 2))\n",
    "\n",
    "ax.set_xlim(0,20)\n",
    "\n",
    "ax.set_title(rf'Schroeder problem 7.16 with $\\mu = {mu}$')\n",
    "\n",
    "ax.legend()\n",
    "\n",
    "fig.tight_layout()"
   ]
  },
  {
   "cell_type": "code",
   "execution_count": null,
   "id": "557eec37",
   "metadata": {},
   "outputs": [],
   "source": []
  }
 ],
 "metadata": {
  "kernelspec": {
   "display_name": "Python 3 (ipykernel)",
   "language": "python",
   "name": "python3"
  },
  "language_info": {
   "codemirror_mode": {
    "name": "ipython",
    "version": 3
   },
   "file_extension": ".py",
   "mimetype": "text/x-python",
   "name": "python",
   "nbconvert_exporter": "python",
   "pygments_lexer": "ipython3",
   "version": "3.9.18"
  }
 },
 "nbformat": 4,
 "nbformat_minor": 5
}
